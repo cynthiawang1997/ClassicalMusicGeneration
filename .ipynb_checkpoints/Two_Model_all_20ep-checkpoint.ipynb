{
 "cells": [
  {
   "cell_type": "code",
   "execution_count": 1,
   "metadata": {},
   "outputs": [
    {
     "name": "stderr",
     "output_type": "stream",
     "text": [
      "Using TensorFlow backend.\n"
     ]
    }
   ],
   "source": [
    "import os\n",
    "import io\n",
    "import time\n",
    "import pickle\n",
    "import numpy as np\n",
    "from numpy.random import choice, shuffle\n",
    "import tqdm.notebook\n",
    "import tensorflow as tf\n",
    "from tensorflow.keras import backend as K\n",
    "from tensorflow.keras.losses import sparse_categorical_crossentropy\n",
    "from tensorflow.keras.optimizers import Nadam\n",
    "from keras.layers import Dense, Activation, Dropout, Input, LeakyReLU\n",
    "from keras.layers import Input, Embedding, Bidirectional, LSTM, GRU\n",
    "from keras.models import Model, Sequential\n",
    "from keras_self_attention import SeqSelfAttention"
   ]
  },
  {
   "cell_type": "code",
   "execution_count": 2,
   "metadata": {},
   "outputs": [],
   "source": [
    "with open('pickle/all_song.pickle','rb') as read_file:\n",
    "    all_song= pickle.load(read_file)\n",
    "with open('pickle/notes_index_dict.pickle','rb') as read_file:\n",
    "    notes_index_dict= pickle.load(read_file)"
   ]
  },
  {
   "cell_type": "code",
   "execution_count": 4,
   "metadata": {},
   "outputs": [],
   "source": [
    "unique_notes = len(notes_index_dict)\n",
    "seq_len = 50"
   ]
  },
  {
   "cell_type": "code",
   "execution_count": 7,
   "metadata": {},
   "outputs": [],
   "source": [
    "class TrainModel:\n",
    "  \n",
    "    def __init__(self, epochs, train, target, batch_nnet_size, batch_song, optimizer, loss_fn,\n",
    "                total_songs, model):\n",
    "        self.epochs = epochs\n",
    "        self.train = train\n",
    "        self.target = target\n",
    "        self.batch_nnet_size = batch_nnet_size\n",
    "        self.batch_song = batch_song\n",
    "        self.optimizer = optimizer\n",
    "        self.loss_fn = loss_fn\n",
    "        self.total_songs = total_songs\n",
    "        self.model = model\n",
    "    \n",
    "    def fit(self):\n",
    "        for epoch in tqdm.notebook.tqdm(range(self.epochs),desc='epochs'):\n",
    "            \n",
    "            # for each epochs, we shuffle the list of all the datasets\n",
    "            train_target = list(zip(self.train, self.target))\n",
    "            shuffle(train_target)\n",
    "            self.train, self.target = zip(*train_target)\n",
    "            loss_total = 0\n",
    "            steps = 0\n",
    "            steps_nnet = 0\n",
    "\n",
    "            # In each epoch, iterate all songs by the size of batch_song\n",
    "            for i in tqdm.notebook.tqdm(range(0,self.total_songs, self.batch_song), desc='MUSIC'):\n",
    "\n",
    "                steps += 1\n",
    "                \n",
    "                input_batch = [y for x in self.train[i:i+self.batch_song] for y in x]\n",
    "                output_batch = [y for x in self.target[i:i+self.batch_song] for y in x]\n",
    "                inputs_nnet_large = np.array(input_batch)\n",
    "                outputs_nnet_large = np.array(output_batch)\n",
    "\n",
    "                index_shuffled = np.arange(start=0, stop=len(inputs_nnet_large))\n",
    "                np.random.shuffle(index_shuffled)\n",
    "                \n",
    "                # process the windows/target in batches\n",
    "                for nnet_steps in tqdm.notebook.tqdm(range(0,len(index_shuffled),self.batch_nnet_size)):\n",
    "                    steps_nnet += 1\n",
    "                    current_index = index_shuffled[nnet_steps:nnet_steps+self.batch_nnet_size]\n",
    "\n",
    "                    inputs_nnet, outputs_nnet = inputs_nnet_large[current_index], outputs_nnet_large[current_index]\n",
    "\n",
    "                    # To make sure no exception thrown by tensorflow on autograph\n",
    "                    if len(inputs_nnet) // self.batch_nnet_size != 1:\n",
    "                        break\n",
    "                    loss = self.train_step(inputs_nnet, outputs_nnet)\n",
    "                    loss_total += tf.math.reduce_sum(loss)\n",
    "                    if steps_nnet % 20 == 0:\n",
    "                        print(\"epochs {} | Steps {} | total loss : {}\".format(epoch + 1, steps_nnet,loss_total))\n",
    "\n",
    "\n",
    "    @tf.function\n",
    "    def train_step(self, inputs, targets):\n",
    "        with tf.GradientTape() as tape:\n",
    "            prediction = self.model(inputs)\n",
    "            loss = self.loss_fn(targets, prediction)\n",
    "        gradients = tape.gradient(loss, self.model.trainable_variables)\n",
    "        self.optimizer.apply_gradients(zip(gradients, self.model.trainable_variables))\n",
    "        return loss"
   ]
  },
  {
   "cell_type": "code",
   "execution_count": 8,
   "metadata": {},
   "outputs": [],
   "source": [
    "train = []\n",
    "target = []\n",
    "\n",
    "for song in all_song:\n",
    "    train.append(song['train'])\n",
    "    target.append(song['target'])"
   ]
  },
  {
   "cell_type": "code",
   "execution_count": 16,
   "metadata": {},
   "outputs": [
    {
     "data": {
      "text/plain": [
       "1493100"
      ]
     },
     "execution_count": 16,
     "metadata": {},
     "output_type": "execute_result"
    }
   ],
   "source": [
    "train_windows = [y for x in train for y in x]\n",
    "len(train_windows)"
   ]
  },
  {
   "cell_type": "code",
   "execution_count": 10,
   "metadata": {},
   "outputs": [
    {
     "name": "stdout",
     "output_type": "stream",
     "text": [
      "WARNING:tensorflow:No training configuration found in the save file, so the model was *not* compiled. Compile it manually.\n"
     ]
    }
   ],
   "source": [
    "model = tf.keras.models.load_model('all_100sb_12ep.h5', custom_objects=SeqSelfAttention.get_custom_objects())"
   ]
  },
  {
   "cell_type": "markdown",
   "metadata": {},
   "source": [
    "import the trained model with 12 epochs and keep training with 8 more epochs "
   ]
  },
  {
   "cell_type": "code",
   "execution_count": 11,
   "metadata": {},
   "outputs": [],
   "source": [
    "optimizer = Nadam()\n",
    "loss_fn = sparse_categorical_crossentropy"
   ]
  },
  {
   "cell_type": "code",
   "execution_count": 12,
   "metadata": {},
   "outputs": [
    {
     "data": {
      "application/vnd.jupyter.widget-view+json": {
       "model_id": "aa6b5f12b014488d807c5b499170c962",
       "version_major": 2,
       "version_minor": 0
      },
      "text/plain": [
       "HBox(children=(FloatProgress(value=0.0, description='epochs', max=8.0, style=ProgressStyle(description_width='…"
      ]
     },
     "metadata": {},
     "output_type": "display_data"
    },
    {
     "data": {
      "application/vnd.jupyter.widget-view+json": {
       "model_id": "0a789c961c8c4d3e904cbd334273de77",
       "version_major": 2,
       "version_minor": 0
      },
      "text/plain": [
       "HBox(children=(FloatProgress(value=0.0, description='MUSIC', max=4.0, style=ProgressStyle(description_width='i…"
      ]
     },
     "metadata": {},
     "output_type": "display_data"
    },
    {
     "data": {
      "application/vnd.jupyter.widget-view+json": {
       "model_id": "c63f8dfd144249d7843a114e8386e369",
       "version_major": 2,
       "version_minor": 0
      },
      "text/plain": [
       "HBox(children=(FloatProgress(value=0.0, max=788.0), HTML(value='')))"
      ]
     },
     "metadata": {},
     "output_type": "display_data"
    },
    {
     "name": "stdout",
     "output_type": "stream",
     "text": [
      "epochs 1 | Steps 20 | total loss : 244.39230346679688\n",
      "epochs 1 | Steps 40 | total loss : 519.43701171875\n",
      "epochs 1 | Steps 60 | total loss : 770.0392456054688\n",
      "epochs 1 | Steps 80 | total loss : 1006.257080078125\n",
      "epochs 1 | Steps 100 | total loss : 1224.9437255859375\n",
      "epochs 1 | Steps 120 | total loss : 1424.685791015625\n",
      "epochs 1 | Steps 140 | total loss : 1646.9993896484375\n",
      "epochs 1 | Steps 160 | total loss : 1848.6824951171875\n",
      "epochs 1 | Steps 180 | total loss : 2054.56640625\n",
      "epochs 1 | Steps 200 | total loss : 2414.7783203125\n",
      "epochs 1 | Steps 220 | total loss : 2816.866455078125\n",
      "epochs 1 | Steps 240 | total loss : 3339.47216796875\n",
      "epochs 1 | Steps 260 | total loss : 3729.57275390625\n",
      "epochs 1 | Steps 280 | total loss : 3982.76904296875\n",
      "epochs 1 | Steps 300 | total loss : 4207.84423828125\n",
      "epochs 1 | Steps 320 | total loss : 4393.15234375\n",
      "epochs 1 | Steps 340 | total loss : 4577.1572265625\n",
      "epochs 1 | Steps 360 | total loss : 4748.56689453125\n",
      "epochs 1 | Steps 380 | total loss : 4952.6435546875\n",
      "epochs 1 | Steps 400 | total loss : 5113.1201171875\n",
      "epochs 1 | Steps 420 | total loss : 5296.92431640625\n",
      "epochs 1 | Steps 440 | total loss : 5484.28759765625\n",
      "epochs 1 | Steps 460 | total loss : 5652.78662109375\n",
      "epochs 1 | Steps 480 | total loss : 5837.0888671875\n",
      "epochs 1 | Steps 500 | total loss : 6034.2177734375\n",
      "epochs 1 | Steps 520 | total loss : 6205.75048828125\n",
      "epochs 1 | Steps 540 | total loss : 6379.76220703125\n",
      "epochs 1 | Steps 560 | total loss : 6562.30615234375\n",
      "epochs 1 | Steps 580 | total loss : 6786.65576171875\n",
      "epochs 1 | Steps 600 | total loss : 7007.6376953125\n",
      "epochs 1 | Steps 620 | total loss : 7192.7587890625\n",
      "epochs 1 | Steps 640 | total loss : 7387.0703125\n",
      "epochs 1 | Steps 660 | total loss : 7590.8134765625\n",
      "epochs 1 | Steps 680 | total loss : 7764.720703125\n",
      "epochs 1 | Steps 700 | total loss : 7956.5224609375\n",
      "epochs 1 | Steps 720 | total loss : 8125.06787109375\n",
      "epochs 1 | Steps 740 | total loss : 8287.48828125\n",
      "epochs 1 | Steps 760 | total loss : 8470.572265625\n",
      "epochs 1 | Steps 780 | total loss : 8642.0419921875\n",
      "\n"
     ]
    },
    {
     "data": {
      "application/vnd.jupyter.widget-view+json": {
       "model_id": "9525254438ed4398a0a1b6f9a756f354",
       "version_major": 2,
       "version_minor": 0
      },
      "text/plain": [
       "HBox(children=(FloatProgress(value=0.0, max=788.0), HTML(value='')))"
      ]
     },
     "metadata": {},
     "output_type": "display_data"
    },
    {
     "name": "stdout",
     "output_type": "stream",
     "text": [
      "epochs 1 | Steps 800 | total loss : 8829.40625\n",
      "epochs 1 | Steps 820 | total loss : 9037.9921875\n",
      "epochs 1 | Steps 840 | total loss : 9216.8779296875\n",
      "epochs 1 | Steps 860 | total loss : 9409.291015625\n",
      "epochs 1 | Steps 880 | total loss : 9635.3779296875\n",
      "epochs 1 | Steps 900 | total loss : 9850.220703125\n",
      "epochs 1 | Steps 920 | total loss : 10022.15234375\n",
      "epochs 1 | Steps 940 | total loss : 10248.6201171875\n",
      "epochs 1 | Steps 960 | total loss : 10420.9716796875\n",
      "epochs 1 | Steps 980 | total loss : 10596.404296875\n",
      "epochs 1 | Steps 1000 | total loss : 10765.50390625\n",
      "epochs 1 | Steps 1020 | total loss : 10924.798828125\n",
      "epochs 1 | Steps 1040 | total loss : 11092.2626953125\n",
      "epochs 1 | Steps 1060 | total loss : 11261.8359375\n",
      "epochs 1 | Steps 1080 | total loss : 11418.54296875\n",
      "epochs 1 | Steps 1100 | total loss : 11573.48046875\n",
      "epochs 1 | Steps 1120 | total loss : 11730.5810546875\n",
      "epochs 1 | Steps 1140 | total loss : 11894.7197265625\n",
      "epochs 1 | Steps 1160 | total loss : 12050.521484375\n",
      "epochs 1 | Steps 1180 | total loss : 12243.29296875\n",
      "epochs 1 | Steps 1200 | total loss : 12410.861328125\n",
      "epochs 1 | Steps 1220 | total loss : 12592.712890625\n",
      "epochs 1 | Steps 1240 | total loss : 12773.1865234375\n",
      "epochs 1 | Steps 1260 | total loss : 12947.3798828125\n",
      "epochs 1 | Steps 1280 | total loss : 13103.837890625\n",
      "epochs 1 | Steps 1300 | total loss : 13290.349609375\n",
      "epochs 1 | Steps 1320 | total loss : 13477.1181640625\n",
      "epochs 1 | Steps 1340 | total loss : 13695.1162109375\n",
      "epochs 1 | Steps 1360 | total loss : 14174.2138671875\n",
      "epochs 1 | Steps 1380 | total loss : 14960.388671875\n",
      "epochs 1 | Steps 1400 | total loss : 15465.751953125\n",
      "epochs 1 | Steps 1420 | total loss : 15826.306640625\n",
      "epochs 1 | Steps 1440 | total loss : 16116.974609375\n",
      "epochs 1 | Steps 1460 | total loss : 16329.560546875\n",
      "epochs 1 | Steps 1480 | total loss : 16539.412109375\n",
      "epochs 1 | Steps 1500 | total loss : 16741.634765625\n",
      "epochs 1 | Steps 1520 | total loss : 16966.822265625\n",
      "epochs 1 | Steps 1540 | total loss : 17133.125\n",
      "epochs 1 | Steps 1560 | total loss : 17318.314453125\n",
      "\n"
     ]
    },
    {
     "data": {
      "application/vnd.jupyter.widget-view+json": {
       "model_id": "47eb3c68025945a986f729d189a66776",
       "version_major": 2,
       "version_minor": 0
      },
      "text/plain": [
       "HBox(children=(FloatProgress(value=0.0, max=788.0), HTML(value='')))"
      ]
     },
     "metadata": {},
     "output_type": "display_data"
    },
    {
     "name": "stdout",
     "output_type": "stream",
     "text": [
      "epochs 1 | Steps 1580 | total loss : 17487.46484375\n",
      "epochs 1 | Steps 1600 | total loss : 17663.869140625\n",
      "epochs 1 | Steps 1620 | total loss : 17837.849609375\n",
      "epochs 1 | Steps 1640 | total loss : 18020.93359375\n",
      "epochs 1 | Steps 1660 | total loss : 18185.349609375\n",
      "epochs 1 | Steps 1680 | total loss : 18379.75\n",
      "epochs 1 | Steps 1700 | total loss : 18553.09765625\n",
      "epochs 1 | Steps 1720 | total loss : 18719.91015625\n",
      "epochs 1 | Steps 1740 | total loss : 18896.482421875\n",
      "epochs 1 | Steps 1760 | total loss : 19066.916015625\n",
      "epochs 1 | Steps 1780 | total loss : 19230.001953125\n",
      "epochs 1 | Steps 1800 | total loss : 19419.78125\n",
      "epochs 1 | Steps 1820 | total loss : 19601.89453125\n",
      "epochs 1 | Steps 1840 | total loss : 19779.962890625\n",
      "epochs 1 | Steps 1860 | total loss : 19977.8125\n",
      "epochs 1 | Steps 1880 | total loss : 20134.41796875\n",
      "epochs 1 | Steps 1900 | total loss : 20316.75\n",
      "epochs 1 | Steps 1920 | total loss : 20495.50390625\n",
      "epochs 1 | Steps 1940 | total loss : 20669.7890625\n",
      "epochs 1 | Steps 1960 | total loss : 20843.1328125\n",
      "epochs 1 | Steps 1980 | total loss : 21011.7578125\n",
      "epochs 1 | Steps 2000 | total loss : 21172.74609375\n",
      "epochs 1 | Steps 2020 | total loss : 21334.376953125\n",
      "epochs 1 | Steps 2040 | total loss : 21501.267578125\n",
      "epochs 1 | Steps 2060 | total loss : 21670.265625\n",
      "epochs 1 | Steps 2080 | total loss : 21839.96484375\n",
      "epochs 1 | Steps 2100 | total loss : 22045.1953125\n",
      "epochs 1 | Steps 2120 | total loss : 22218.7421875\n",
      "epochs 1 | Steps 2140 | total loss : 22419.37890625\n",
      "epochs 1 | Steps 2160 | total loss : 22636.677734375\n",
      "epochs 1 | Steps 2180 | total loss : 22851.255859375\n",
      "epochs 1 | Steps 2200 | total loss : 23105.41015625\n",
      "epochs 1 | Steps 2220 | total loss : 23317.205078125\n",
      "epochs 1 | Steps 2240 | total loss : 23637.830078125\n",
      "epochs 1 | Steps 2260 | total loss : 23986.615234375\n",
      "epochs 1 | Steps 2280 | total loss : 24346.626953125\n",
      "epochs 1 | Steps 2300 | total loss : 24805.24609375\n",
      "epochs 1 | Steps 2320 | total loss : 25162.802734375\n",
      "epochs 1 | Steps 2340 | total loss : 25513.0234375\n",
      "epochs 1 | Steps 2360 | total loss : 25869.345703125\n",
      "\n"
     ]
    },
    {
     "data": {
      "application/vnd.jupyter.widget-view+json": {
       "model_id": "2a3056f391d94322997f0e4f15be39ee",
       "version_major": 2,
       "version_minor": 0
      },
      "text/plain": [
       "HBox(children=(FloatProgress(value=0.0, max=126.0), HTML(value='')))"
      ]
     },
     "metadata": {},
     "output_type": "display_data"
    },
    {
     "name": "stdout",
     "output_type": "stream",
     "text": [
      "epochs 1 | Steps 2380 | total loss : 26074.453125\n",
      "epochs 1 | Steps 2400 | total loss : 26273.203125\n",
      "epochs 1 | Steps 2420 | total loss : 26471.365234375\n",
      "epochs 1 | Steps 2440 | total loss : 26641.234375\n",
      "epochs 1 | Steps 2460 | total loss : 26839.455078125\n",
      "epochs 1 | Steps 2480 | total loss : 27039.5703125\n",
      "\n",
      "\n"
     ]
    },
    {
     "data": {
      "application/vnd.jupyter.widget-view+json": {
       "model_id": "308a51d5ef5a441ebd02ec6b4fd8f8a9",
       "version_major": 2,
       "version_minor": 0
      },
      "text/plain": [
       "HBox(children=(FloatProgress(value=0.0, description='MUSIC', max=4.0, style=ProgressStyle(description_width='i…"
      ]
     },
     "metadata": {},
     "output_type": "display_data"
    },
    {
     "data": {
      "application/vnd.jupyter.widget-view+json": {
       "model_id": "9d378645349944858049510dc85603d7",
       "version_major": 2,
       "version_minor": 0
      },
      "text/plain": [
       "HBox(children=(FloatProgress(value=0.0, max=788.0), HTML(value='')))"
      ]
     },
     "metadata": {},
     "output_type": "display_data"
    },
    {
     "name": "stdout",
     "output_type": "stream",
     "text": [
      "epochs 2 | Steps 20 | total loss : 201.9156951904297\n",
      "epochs 2 | Steps 40 | total loss : 364.16046142578125\n",
      "epochs 2 | Steps 60 | total loss : 540.761474609375\n",
      "epochs 2 | Steps 80 | total loss : 727.3439331054688\n",
      "epochs 2 | Steps 100 | total loss : 888.2243041992188\n",
      "epochs 2 | Steps 120 | total loss : 1060.4613037109375\n",
      "epochs 2 | Steps 140 | total loss : 1235.9114990234375\n",
      "epochs 2 | Steps 160 | total loss : 1392.9385986328125\n",
      "epochs 2 | Steps 180 | total loss : 1559.8333740234375\n",
      "epochs 2 | Steps 200 | total loss : 1746.76611328125\n",
      "epochs 2 | Steps 220 | total loss : 1901.6368408203125\n",
      "epochs 2 | Steps 240 | total loss : 2075.119384765625\n",
      "epochs 2 | Steps 260 | total loss : 2249.10498046875\n",
      "epochs 2 | Steps 280 | total loss : 2396.655029296875\n",
      "epochs 2 | Steps 300 | total loss : 2537.251953125\n",
      "epochs 2 | Steps 320 | total loss : 2719.81201171875\n",
      "epochs 2 | Steps 340 | total loss : 2866.81298828125\n",
      "epochs 2 | Steps 360 | total loss : 3056.556884765625\n",
      "epochs 2 | Steps 380 | total loss : 3217.1513671875\n",
      "epochs 2 | Steps 400 | total loss : 3392.394775390625\n",
      "epochs 2 | Steps 420 | total loss : 3555.364013671875\n",
      "epochs 2 | Steps 440 | total loss : 3718.85693359375\n",
      "epochs 2 | Steps 460 | total loss : 3902.113037109375\n",
      "epochs 2 | Steps 480 | total loss : 4055.980224609375\n",
      "epochs 2 | Steps 500 | total loss : 4222.654296875\n",
      "epochs 2 | Steps 520 | total loss : 4401.44580078125\n",
      "epochs 2 | Steps 540 | total loss : 4579.3583984375\n",
      "epochs 2 | Steps 560 | total loss : 4723.5771484375\n",
      "epochs 2 | Steps 580 | total loss : 4901.41357421875\n",
      "epochs 2 | Steps 600 | total loss : 5062.78564453125\n",
      "epochs 2 | Steps 620 | total loss : 5230.9404296875\n",
      "epochs 2 | Steps 640 | total loss : 5417.12646484375\n",
      "epochs 2 | Steps 660 | total loss : 5585.10009765625\n",
      "epochs 2 | Steps 680 | total loss : 5743.8876953125\n",
      "epochs 2 | Steps 700 | total loss : 5923.615234375\n",
      "epochs 2 | Steps 720 | total loss : 6140.763671875\n",
      "epochs 2 | Steps 740 | total loss : 6317.92822265625\n",
      "epochs 2 | Steps 760 | total loss : 6566.9912109375\n",
      "epochs 2 | Steps 780 | total loss : 7039.42529296875\n",
      "\n"
     ]
    },
    {
     "data": {
      "application/vnd.jupyter.widget-view+json": {
       "model_id": "9b7ffa21800942ec8bfc173498fb8724",
       "version_major": 2,
       "version_minor": 0
      },
      "text/plain": [
       "HBox(children=(FloatProgress(value=0.0, max=788.0), HTML(value='')))"
      ]
     },
     "metadata": {},
     "output_type": "display_data"
    },
    {
     "name": "stdout",
     "output_type": "stream",
     "text": [
      "epochs 2 | Steps 800 | total loss : 7447.34716796875\n",
      "epochs 2 | Steps 820 | total loss : 7815.1591796875\n",
      "epochs 2 | Steps 840 | total loss : 8099.34228515625\n",
      "epochs 2 | Steps 860 | total loss : 8325.1123046875\n",
      "epochs 2 | Steps 880 | total loss : 8510.009765625\n",
      "epochs 2 | Steps 900 | total loss : 8702.1982421875\n",
      "epochs 2 | Steps 920 | total loss : 8866.7724609375\n",
      "epochs 2 | Steps 940 | total loss : 9193.4482421875\n",
      "epochs 2 | Steps 960 | total loss : 9416.98828125\n",
      "epochs 2 | Steps 980 | total loss : 9699.2294921875\n",
      "epochs 2 | Steps 1000 | total loss : 9971.626953125\n",
      "epochs 2 | Steps 1020 | total loss : 10137.6376953125\n",
      "epochs 2 | Steps 1040 | total loss : 10328.0166015625\n",
      "epochs 2 | Steps 1060 | total loss : 10534.427734375\n",
      "epochs 2 | Steps 1080 | total loss : 10726.28515625\n",
      "epochs 2 | Steps 1100 | total loss : 10891.3720703125\n",
      "epochs 2 | Steps 1120 | total loss : 11059.9970703125\n",
      "epochs 2 | Steps 1140 | total loss : 11226.9150390625\n",
      "epochs 2 | Steps 1160 | total loss : 11404.6494140625\n",
      "epochs 2 | Steps 1180 | total loss : 11571.0693359375\n",
      "epochs 2 | Steps 1200 | total loss : 11762.32421875\n",
      "epochs 2 | Steps 1220 | total loss : 11945.1376953125\n",
      "epochs 2 | Steps 1240 | total loss : 12144.8466796875\n",
      "epochs 2 | Steps 1260 | total loss : 12350.9150390625\n",
      "epochs 2 | Steps 1280 | total loss : 12569.810546875\n",
      "epochs 2 | Steps 1300 | total loss : 12765.4345703125\n",
      "epochs 2 | Steps 1320 | total loss : 12928.9482421875\n",
      "epochs 2 | Steps 1340 | total loss : 13093.173828125\n",
      "epochs 2 | Steps 1360 | total loss : 13260.423828125\n",
      "epochs 2 | Steps 1380 | total loss : 13426.974609375\n",
      "epochs 2 | Steps 1400 | total loss : 13588.8330078125\n",
      "epochs 2 | Steps 1420 | total loss : 13763.666015625\n",
      "epochs 2 | Steps 1440 | total loss : 13942.2275390625\n",
      "epochs 2 | Steps 1460 | total loss : 14114.4658203125\n",
      "epochs 2 | Steps 1480 | total loss : 14277.1123046875\n",
      "epochs 2 | Steps 1500 | total loss : 14441.25\n",
      "epochs 2 | Steps 1520 | total loss : 14603.1025390625\n",
      "epochs 2 | Steps 1540 | total loss : 14815.306640625\n",
      "epochs 2 | Steps 1560 | total loss : 15001.4326171875\n",
      "\n"
     ]
    },
    {
     "data": {
      "application/vnd.jupyter.widget-view+json": {
       "model_id": "b2022b32d7204e598b7629f934aefb8b",
       "version_major": 2,
       "version_minor": 0
      },
      "text/plain": [
       "HBox(children=(FloatProgress(value=0.0, max=788.0), HTML(value='')))"
      ]
     },
     "metadata": {},
     "output_type": "display_data"
    },
    {
     "name": "stdout",
     "output_type": "stream",
     "text": [
      "epochs 2 | Steps 1580 | total loss : 15163.8564453125\n",
      "epochs 2 | Steps 1600 | total loss : 15350.3974609375\n",
      "epochs 2 | Steps 1620 | total loss : 15530.376953125\n",
      "epochs 2 | Steps 1640 | total loss : 15695.5087890625\n",
      "epochs 2 | Steps 1660 | total loss : 15877.0234375\n",
      "epochs 2 | Steps 1680 | total loss : 16041.328125\n",
      "epochs 2 | Steps 1700 | total loss : 16218.962890625\n",
      "epochs 2 | Steps 1720 | total loss : 16397.166015625\n",
      "epochs 2 | Steps 1740 | total loss : 16568.58984375\n",
      "epochs 2 | Steps 1760 | total loss : 16750.96484375\n",
      "epochs 2 | Steps 1780 | total loss : 16919.25\n",
      "epochs 2 | Steps 1800 | total loss : 17118.78515625\n",
      "epochs 2 | Steps 1820 | total loss : 17335.26171875\n",
      "epochs 2 | Steps 1840 | total loss : 17564.759765625\n",
      "epochs 2 | Steps 1860 | total loss : 17779.2421875\n",
      "epochs 2 | Steps 1880 | total loss : 17939.5078125\n",
      "epochs 2 | Steps 1900 | total loss : 18112.78125\n",
      "epochs 2 | Steps 1920 | total loss : 18290.830078125\n",
      "epochs 2 | Steps 1940 | total loss : 18468.330078125\n",
      "epochs 2 | Steps 1960 | total loss : 18636.333984375\n",
      "epochs 2 | Steps 1980 | total loss : 18799.234375\n",
      "epochs 2 | Steps 2000 | total loss : 18959.16796875\n",
      "epochs 2 | Steps 2020 | total loss : 19090.365234375\n",
      "epochs 2 | Steps 2040 | total loss : 19265.5859375\n",
      "epochs 2 | Steps 2060 | total loss : 19402.66796875\n",
      "epochs 2 | Steps 2080 | total loss : 19678.451171875\n",
      "epochs 2 | Steps 2100 | total loss : 19873.595703125\n",
      "epochs 2 | Steps 2120 | total loss : 20088.05078125\n",
      "epochs 2 | Steps 2140 | total loss : 20293.4921875\n",
      "epochs 2 | Steps 2160 | total loss : 20491.029296875\n",
      "epochs 2 | Steps 2180 | total loss : 20633.158203125\n",
      "epochs 2 | Steps 2200 | total loss : 20816.81640625\n",
      "epochs 2 | Steps 2220 | total loss : 20985.501953125\n",
      "epochs 2 | Steps 2240 | total loss : 21139.6171875\n",
      "epochs 2 | Steps 2260 | total loss : 21285.017578125\n",
      "epochs 2 | Steps 2280 | total loss : 21476.203125\n",
      "epochs 2 | Steps 2300 | total loss : 21626.640625\n",
      "epochs 2 | Steps 2320 | total loss : 21774.21875\n",
      "epochs 2 | Steps 2340 | total loss : 21924.044921875\n",
      "epochs 2 | Steps 2360 | total loss : 22067.78125\n",
      "\n"
     ]
    },
    {
     "data": {
      "application/vnd.jupyter.widget-view+json": {
       "model_id": "6aabf039517e4c5b87b6f7a668f2a33a",
       "version_major": 2,
       "version_minor": 0
      },
      "text/plain": [
       "HBox(children=(FloatProgress(value=0.0, max=126.0), HTML(value='')))"
      ]
     },
     "metadata": {},
     "output_type": "display_data"
    },
    {
     "name": "stdout",
     "output_type": "stream",
     "text": [
      "epochs 2 | Steps 2380 | total loss : 22247.095703125\n",
      "epochs 2 | Steps 2400 | total loss : 22397.515625\n",
      "epochs 2 | Steps 2420 | total loss : 22585.982421875\n",
      "epochs 2 | Steps 2440 | total loss : 22786.427734375\n",
      "epochs 2 | Steps 2460 | total loss : 23095.103515625\n",
      "epochs 2 | Steps 2480 | total loss : 23399.533203125\n",
      "\n",
      "\n"
     ]
    },
    {
     "data": {
      "application/vnd.jupyter.widget-view+json": {
       "model_id": "d5ca692945f2496db880df9647925a99",
       "version_major": 2,
       "version_minor": 0
      },
      "text/plain": [
       "HBox(children=(FloatProgress(value=0.0, description='MUSIC', max=4.0, style=ProgressStyle(description_width='i…"
      ]
     },
     "metadata": {},
     "output_type": "display_data"
    },
    {
     "data": {
      "application/vnd.jupyter.widget-view+json": {
       "model_id": "793f6ad0353a481aa1ae8eafbe22e15b",
       "version_major": 2,
       "version_minor": 0
      },
      "text/plain": [
       "HBox(children=(FloatProgress(value=0.0, max=788.0), HTML(value='')))"
      ]
     },
     "metadata": {},
     "output_type": "display_data"
    },
    {
     "name": "stdout",
     "output_type": "stream",
     "text": [
      "epochs 3 | Steps 20 | total loss : 230.04025268554688\n",
      "epochs 3 | Steps 40 | total loss : 436.4903564453125\n",
      "epochs 3 | Steps 60 | total loss : 635.1243896484375\n",
      "epochs 3 | Steps 80 | total loss : 798.2034301757812\n",
      "epochs 3 | Steps 100 | total loss : 964.161376953125\n",
      "epochs 3 | Steps 120 | total loss : 1113.4400634765625\n",
      "epochs 3 | Steps 140 | total loss : 1309.332275390625\n",
      "epochs 3 | Steps 160 | total loss : 1551.3233642578125\n",
      "epochs 3 | Steps 180 | total loss : 1755.8111572265625\n",
      "epochs 3 | Steps 200 | total loss : 1942.1593017578125\n",
      "epochs 3 | Steps 220 | total loss : 2134.878662109375\n",
      "epochs 3 | Steps 240 | total loss : 2324.251953125\n",
      "epochs 3 | Steps 260 | total loss : 2490.94970703125\n",
      "epochs 3 | Steps 280 | total loss : 2658.02490234375\n",
      "epochs 3 | Steps 300 | total loss : 2835.4111328125\n",
      "epochs 3 | Steps 320 | total loss : 3032.382568359375\n",
      "epochs 3 | Steps 340 | total loss : 3187.920654296875\n",
      "epochs 3 | Steps 360 | total loss : 3378.297607421875\n",
      "epochs 3 | Steps 380 | total loss : 3549.80859375\n",
      "epochs 3 | Steps 400 | total loss : 3714.008544921875\n",
      "epochs 3 | Steps 420 | total loss : 3871.65380859375\n",
      "epochs 3 | Steps 440 | total loss : 4022.580078125\n",
      "epochs 3 | Steps 460 | total loss : 4201.26513671875\n",
      "epochs 3 | Steps 480 | total loss : 4368.9853515625\n",
      "epochs 3 | Steps 500 | total loss : 4538.83251953125\n",
      "epochs 3 | Steps 520 | total loss : 4702.529296875\n",
      "epochs 3 | Steps 540 | total loss : 4875.8974609375\n",
      "epochs 3 | Steps 560 | total loss : 5089.7626953125\n",
      "epochs 3 | Steps 580 | total loss : 5320.29443359375\n",
      "epochs 3 | Steps 600 | total loss : 5508.01416015625\n",
      "epochs 3 | Steps 620 | total loss : 5739.3701171875\n",
      "epochs 3 | Steps 640 | total loss : 5980.1103515625\n",
      "epochs 3 | Steps 660 | total loss : 6204.30322265625\n",
      "epochs 3 | Steps 680 | total loss : 6387.33935546875\n",
      "epochs 3 | Steps 700 | total loss : 6593.58837890625\n",
      "epochs 3 | Steps 720 | total loss : 6742.029296875\n",
      "epochs 3 | Steps 740 | total loss : 6912.6640625\n",
      "epochs 3 | Steps 760 | total loss : 7068.1572265625\n",
      "epochs 3 | Steps 780 | total loss : 7228.26513671875\n",
      "\n"
     ]
    },
    {
     "data": {
      "application/vnd.jupyter.widget-view+json": {
       "model_id": "a3b6ec2d13a045c59f2b1550e764eda2",
       "version_major": 2,
       "version_minor": 0
      },
      "text/plain": [
       "HBox(children=(FloatProgress(value=0.0, max=788.0), HTML(value='')))"
      ]
     },
     "metadata": {},
     "output_type": "display_data"
    },
    {
     "name": "stdout",
     "output_type": "stream",
     "text": [
      "epochs 3 | Steps 800 | total loss : 7382.29736328125\n",
      "epochs 3 | Steps 820 | total loss : 7556.390625\n",
      "epochs 3 | Steps 840 | total loss : 7725.46875\n",
      "epochs 3 | Steps 860 | total loss : 7899.69482421875\n",
      "epochs 3 | Steps 880 | total loss : 8067.662109375\n",
      "epochs 3 | Steps 900 | total loss : 8213.4638671875\n",
      "epochs 3 | Steps 920 | total loss : 8365.2998046875\n",
      "epochs 3 | Steps 940 | total loss : 8529.3271484375\n",
      "epochs 3 | Steps 960 | total loss : 8688.4921875\n",
      "epochs 3 | Steps 980 | total loss : 8844.3818359375\n",
      "epochs 3 | Steps 1000 | total loss : 9041.8720703125\n",
      "epochs 3 | Steps 1020 | total loss : 9194.953125\n",
      "epochs 3 | Steps 1040 | total loss : 9341.5869140625\n",
      "epochs 3 | Steps 1060 | total loss : 9486.833984375\n",
      "epochs 3 | Steps 1080 | total loss : 9649.2490234375\n",
      "epochs 3 | Steps 1100 | total loss : 9820.640625\n",
      "epochs 3 | Steps 1120 | total loss : 9991.5068359375\n",
      "epochs 3 | Steps 1140 | total loss : 10142.2060546875\n",
      "epochs 3 | Steps 1160 | total loss : 10340.951171875\n",
      "epochs 3 | Steps 1180 | total loss : 10525.4736328125\n",
      "epochs 3 | Steps 1200 | total loss : 10795.130859375\n",
      "epochs 3 | Steps 1220 | total loss : 10963.1396484375\n",
      "epochs 3 | Steps 1240 | total loss : 11211.578125\n",
      "epochs 3 | Steps 1260 | total loss : 11501.234375\n",
      "epochs 3 | Steps 1280 | total loss : 11785.7509765625\n",
      "epochs 3 | Steps 1300 | total loss : 11979.3779296875\n",
      "epochs 3 | Steps 1320 | total loss : 12183.3779296875\n",
      "epochs 3 | Steps 1340 | total loss : 12358.984375\n",
      "epochs 3 | Steps 1360 | total loss : 12518.962890625\n",
      "epochs 3 | Steps 1380 | total loss : 12693.4609375\n",
      "epochs 3 | Steps 1400 | total loss : 12877.822265625\n",
      "epochs 3 | Steps 1420 | total loss : 13059.6806640625\n",
      "epochs 3 | Steps 1440 | total loss : 13218.65625\n",
      "epochs 3 | Steps 1460 | total loss : 13403.4404296875\n",
      "epochs 3 | Steps 1480 | total loss : 13595.1328125\n",
      "epochs 3 | Steps 1500 | total loss : 13777.953125\n",
      "epochs 3 | Steps 1520 | total loss : 13960.61328125\n",
      "epochs 3 | Steps 1540 | total loss : 14140.232421875\n",
      "epochs 3 | Steps 1560 | total loss : 14319.5048828125\n",
      "\n"
     ]
    },
    {
     "data": {
      "application/vnd.jupyter.widget-view+json": {
       "model_id": "5be348a15e1b4eba8a1ab7e9680a41c0",
       "version_major": 2,
       "version_minor": 0
      },
      "text/plain": [
       "HBox(children=(FloatProgress(value=0.0, max=788.0), HTML(value='')))"
      ]
     },
     "metadata": {},
     "output_type": "display_data"
    },
    {
     "name": "stdout",
     "output_type": "stream",
     "text": [
      "epochs 3 | Steps 1580 | total loss : 14500.3984375\n",
      "epochs 3 | Steps 1600 | total loss : 14691.869140625\n",
      "epochs 3 | Steps 1620 | total loss : 14895.3173828125\n",
      "epochs 3 | Steps 1640 | total loss : 15041.9482421875\n",
      "epochs 3 | Steps 1660 | total loss : 15226.8310546875\n",
      "epochs 3 | Steps 1680 | total loss : 15374.6181640625\n",
      "epochs 3 | Steps 1700 | total loss : 15562.7041015625\n",
      "epochs 3 | Steps 1720 | total loss : 15710.021484375\n",
      "epochs 3 | Steps 1740 | total loss : 15863.6064453125\n",
      "epochs 3 | Steps 1760 | total loss : 16012.7431640625\n",
      "epochs 3 | Steps 1780 | total loss : 16210.666015625\n",
      "epochs 3 | Steps 1800 | total loss : 16383.4072265625\n",
      "epochs 3 | Steps 1820 | total loss : 16550.28515625\n",
      "epochs 3 | Steps 1840 | total loss : 16673.6640625\n",
      "epochs 3 | Steps 1860 | total loss : 16816.650390625\n",
      "epochs 3 | Steps 1880 | total loss : 16986.6328125\n",
      "epochs 3 | Steps 1900 | total loss : 17145.3671875\n",
      "epochs 3 | Steps 1920 | total loss : 17307.8984375\n",
      "epochs 3 | Steps 1940 | total loss : 17437.169921875\n",
      "epochs 3 | Steps 1960 | total loss : 17608.302734375\n",
      "epochs 3 | Steps 1980 | total loss : 17772.86328125\n",
      "epochs 3 | Steps 2000 | total loss : 17941.380859375\n",
      "epochs 3 | Steps 2020 | total loss : 18096.298828125\n",
      "epochs 3 | Steps 2040 | total loss : 18229.48046875\n",
      "epochs 3 | Steps 2060 | total loss : 18391.666015625\n",
      "epochs 3 | Steps 2080 | total loss : 18579.05078125\n",
      "epochs 3 | Steps 2100 | total loss : 18757.212890625\n",
      "epochs 3 | Steps 2120 | total loss : 18929.0625\n",
      "epochs 3 | Steps 2140 | total loss : 19100.5390625\n",
      "epochs 3 | Steps 2160 | total loss : 19268.248046875\n",
      "epochs 3 | Steps 2180 | total loss : 19464.3359375\n",
      "epochs 3 | Steps 2200 | total loss : 19647.076171875\n",
      "epochs 3 | Steps 2220 | total loss : 19817.12109375\n",
      "epochs 3 | Steps 2240 | total loss : 20013.94140625\n",
      "epochs 3 | Steps 2260 | total loss : 20206.677734375\n",
      "epochs 3 | Steps 2280 | total loss : 20390.259765625\n",
      "epochs 3 | Steps 2300 | total loss : 20600.564453125\n",
      "epochs 3 | Steps 2320 | total loss : 20785.51171875\n",
      "epochs 3 | Steps 2340 | total loss : 20987.37890625\n",
      "epochs 3 | Steps 2360 | total loss : 21160.5078125\n",
      "\n"
     ]
    },
    {
     "data": {
      "application/vnd.jupyter.widget-view+json": {
       "model_id": "d05894925dfc45c38e23e1e37d6bc090",
       "version_major": 2,
       "version_minor": 0
      },
      "text/plain": [
       "HBox(children=(FloatProgress(value=0.0, max=126.0), HTML(value='')))"
      ]
     },
     "metadata": {},
     "output_type": "display_data"
    },
    {
     "name": "stdout",
     "output_type": "stream",
     "text": [
      "epochs 3 | Steps 2380 | total loss : 21321.203125\n",
      "epochs 3 | Steps 2400 | total loss : 21523.873046875\n",
      "epochs 3 | Steps 2420 | total loss : 21685.19140625\n",
      "epochs 3 | Steps 2440 | total loss : 21853.701171875\n",
      "epochs 3 | Steps 2460 | total loss : 22080.470703125\n",
      "epochs 3 | Steps 2480 | total loss : 22301.384765625\n",
      "\n",
      "\n"
     ]
    },
    {
     "data": {
      "application/vnd.jupyter.widget-view+json": {
       "model_id": "1439876255394b1e9ff0a0942fefaccd",
       "version_major": 2,
       "version_minor": 0
      },
      "text/plain": [
       "HBox(children=(FloatProgress(value=0.0, description='MUSIC', max=4.0, style=ProgressStyle(description_width='i…"
      ]
     },
     "metadata": {},
     "output_type": "display_data"
    },
    {
     "data": {
      "application/vnd.jupyter.widget-view+json": {
       "model_id": "928b8e5330db4e86b6e7d5a5e3f9e384",
       "version_major": 2,
       "version_minor": 0
      },
      "text/plain": [
       "HBox(children=(FloatProgress(value=0.0, max=788.0), HTML(value='')))"
      ]
     },
     "metadata": {},
     "output_type": "display_data"
    },
    {
     "name": "stdout",
     "output_type": "stream",
     "text": [
      "epochs 4 | Steps 20 | total loss : 216.63829040527344\n",
      "epochs 4 | Steps 40 | total loss : 502.0018005371094\n",
      "epochs 4 | Steps 60 | total loss : 887.64892578125\n",
      "epochs 4 | Steps 80 | total loss : 1197.2391357421875\n",
      "epochs 4 | Steps 100 | total loss : 1490.0084228515625\n",
      "epochs 4 | Steps 120 | total loss : 1728.431640625\n",
      "epochs 4 | Steps 140 | total loss : 1983.583251953125\n",
      "epochs 4 | Steps 160 | total loss : 2183.459228515625\n",
      "epochs 4 | Steps 180 | total loss : 2653.455322265625\n",
      "epochs 4 | Steps 200 | total loss : 2899.477294921875\n",
      "epochs 4 | Steps 220 | total loss : 3331.068359375\n",
      "epochs 4 | Steps 240 | total loss : 3673.9658203125\n",
      "epochs 4 | Steps 260 | total loss : 3913.503662109375\n",
      "epochs 4 | Steps 280 | total loss : 4155.8955078125\n",
      "epochs 4 | Steps 300 | total loss : 4367.82958984375\n",
      "epochs 4 | Steps 320 | total loss : 4580.265625\n",
      "epochs 4 | Steps 340 | total loss : 4766.27099609375\n",
      "epochs 4 | Steps 360 | total loss : 4963.14404296875\n",
      "epochs 4 | Steps 380 | total loss : 5155.7890625\n",
      "epochs 4 | Steps 400 | total loss : 5335.509765625\n",
      "epochs 4 | Steps 420 | total loss : 5553.150390625\n",
      "epochs 4 | Steps 440 | total loss : 6046.1669921875\n",
      "epochs 4 | Steps 460 | total loss : 6522.34912109375\n",
      "epochs 4 | Steps 480 | total loss : 6813.93896484375\n",
      "epochs 4 | Steps 500 | total loss : 7054.1162109375\n",
      "epochs 4 | Steps 520 | total loss : 7278.1416015625\n",
      "epochs 4 | Steps 540 | total loss : 7523.8564453125\n",
      "epochs 4 | Steps 560 | total loss : 7712.62158203125\n",
      "epochs 4 | Steps 580 | total loss : 7888.87109375\n",
      "epochs 4 | Steps 600 | total loss : 8073.6171875\n",
      "epochs 4 | Steps 620 | total loss : 8268.931640625\n",
      "epochs 4 | Steps 640 | total loss : 8446.58984375\n",
      "epochs 4 | Steps 660 | total loss : 8606.376953125\n",
      "epochs 4 | Steps 680 | total loss : 8772.3017578125\n",
      "epochs 4 | Steps 700 | total loss : 8952.1591796875\n",
      "epochs 4 | Steps 720 | total loss : 9127.544921875\n",
      "epochs 4 | Steps 740 | total loss : 9299.1298828125\n",
      "epochs 4 | Steps 760 | total loss : 9482.83203125\n",
      "epochs 4 | Steps 780 | total loss : 9619.9755859375\n",
      "\n"
     ]
    },
    {
     "data": {
      "application/vnd.jupyter.widget-view+json": {
       "model_id": "a36e9f6402624533b8c6d9d7527d169a",
       "version_major": 2,
       "version_minor": 0
      },
      "text/plain": [
       "HBox(children=(FloatProgress(value=0.0, max=788.0), HTML(value='')))"
      ]
     },
     "metadata": {},
     "output_type": "display_data"
    },
    {
     "name": "stdout",
     "output_type": "stream",
     "text": [
      "epochs 4 | Steps 800 | total loss : 9790.2802734375\n",
      "epochs 4 | Steps 820 | total loss : 9961.150390625\n",
      "epochs 4 | Steps 840 | total loss : 10118.14453125\n",
      "epochs 4 | Steps 860 | total loss : 10273.12109375\n",
      "epochs 4 | Steps 880 | total loss : 10456.8876953125\n",
      "epochs 4 | Steps 900 | total loss : 10607.201171875\n",
      "epochs 4 | Steps 920 | total loss : 10769.3583984375\n",
      "epochs 4 | Steps 940 | total loss : 10920.638671875\n",
      "epochs 4 | Steps 960 | total loss : 11078.4873046875\n",
      "epochs 4 | Steps 980 | total loss : 11251.8330078125\n",
      "epochs 4 | Steps 1000 | total loss : 11405.6083984375\n",
      "epochs 4 | Steps 1020 | total loss : 11563.0732421875\n",
      "epochs 4 | Steps 1040 | total loss : 11721.0068359375\n",
      "epochs 4 | Steps 1060 | total loss : 11891.2314453125\n",
      "epochs 4 | Steps 1080 | total loss : 12054.8818359375\n",
      "epochs 4 | Steps 1100 | total loss : 12209.0263671875\n",
      "epochs 4 | Steps 1120 | total loss : 12365.0009765625\n",
      "epochs 4 | Steps 1140 | total loss : 12504.40625\n",
      "epochs 4 | Steps 1160 | total loss : 12655.5458984375\n",
      "epochs 4 | Steps 1180 | total loss : 12793.478515625\n",
      "epochs 4 | Steps 1200 | total loss : 12953.763671875\n",
      "epochs 4 | Steps 1220 | total loss : 13130.857421875\n",
      "epochs 4 | Steps 1240 | total loss : 13282.5205078125\n",
      "epochs 4 | Steps 1260 | total loss : 13456.1181640625\n",
      "epochs 4 | Steps 1280 | total loss : 13614.60546875\n",
      "epochs 4 | Steps 1300 | total loss : 13754.56640625\n",
      "epochs 4 | Steps 1320 | total loss : 13923.919921875\n",
      "epochs 4 | Steps 1340 | total loss : 14077.263671875\n",
      "epochs 4 | Steps 1360 | total loss : 14242.7099609375\n",
      "epochs 4 | Steps 1380 | total loss : 14392.03515625\n",
      "epochs 4 | Steps 1400 | total loss : 14559.0546875\n",
      "epochs 4 | Steps 1420 | total loss : 14712.091796875\n",
      "epochs 4 | Steps 1440 | total loss : 14877.2578125\n",
      "epochs 4 | Steps 1460 | total loss : 15042.6240234375\n",
      "epochs 4 | Steps 1480 | total loss : 15191.22265625\n",
      "epochs 4 | Steps 1500 | total loss : 15335.4541015625\n",
      "epochs 4 | Steps 1520 | total loss : 15513.48828125\n",
      "epochs 4 | Steps 1540 | total loss : 15686.857421875\n",
      "epochs 4 | Steps 1560 | total loss : 15847.615234375\n",
      "\n"
     ]
    },
    {
     "data": {
      "application/vnd.jupyter.widget-view+json": {
       "model_id": "af842a89edd344bca43ae28d6a7dfe8e",
       "version_major": 2,
       "version_minor": 0
      },
      "text/plain": [
       "HBox(children=(FloatProgress(value=0.0, max=788.0), HTML(value='')))"
      ]
     },
     "metadata": {},
     "output_type": "display_data"
    },
    {
     "name": "stdout",
     "output_type": "stream",
     "text": [
      "epochs 4 | Steps 1580 | total loss : 15996.09765625\n",
      "epochs 4 | Steps 1600 | total loss : 16135.1279296875\n",
      "epochs 4 | Steps 1620 | total loss : 16287.783203125\n",
      "epochs 4 | Steps 1640 | total loss : 16448.513671875\n",
      "epochs 4 | Steps 1660 | total loss : 16594.814453125\n",
      "epochs 4 | Steps 1680 | total loss : 16770.525390625\n",
      "epochs 4 | Steps 1700 | total loss : 16948.884765625\n",
      "epochs 4 | Steps 1720 | total loss : 17115.443359375\n",
      "epochs 4 | Steps 1740 | total loss : 17269.7265625\n",
      "epochs 4 | Steps 1760 | total loss : 17421.052734375\n",
      "epochs 4 | Steps 1780 | total loss : 17596.984375\n",
      "epochs 4 | Steps 1800 | total loss : 17757.1484375\n",
      "epochs 4 | Steps 1820 | total loss : 17904.48046875\n",
      "epochs 4 | Steps 1840 | total loss : 18046.2421875\n",
      "epochs 4 | Steps 1860 | total loss : 18179.958984375\n",
      "epochs 4 | Steps 1880 | total loss : 18322.404296875\n",
      "epochs 4 | Steps 1900 | total loss : 18499.92578125\n",
      "epochs 4 | Steps 1920 | total loss : 18664.986328125\n",
      "epochs 4 | Steps 1940 | total loss : 18800.28515625\n",
      "epochs 4 | Steps 1960 | total loss : 18927.728515625\n",
      "epochs 4 | Steps 1980 | total loss : 19071.306640625\n",
      "epochs 4 | Steps 2000 | total loss : 19210.03125\n",
      "epochs 4 | Steps 2020 | total loss : 19360.88671875\n",
      "epochs 4 | Steps 2040 | total loss : 19510.66015625\n",
      "epochs 4 | Steps 2060 | total loss : 19679.982421875\n",
      "epochs 4 | Steps 2080 | total loss : 19851.8359375\n",
      "epochs 4 | Steps 2100 | total loss : 20014.416015625\n",
      "epochs 4 | Steps 2120 | total loss : 20198.00390625\n",
      "epochs 4 | Steps 2140 | total loss : 20331.705078125\n",
      "epochs 4 | Steps 2160 | total loss : 20549.6484375\n",
      "epochs 4 | Steps 2180 | total loss : 20777.05859375\n",
      "epochs 4 | Steps 2200 | total loss : 21011.826171875\n",
      "epochs 4 | Steps 2220 | total loss : 21386.93359375\n",
      "epochs 4 | Steps 2240 | total loss : 21826.76171875\n",
      "epochs 4 | Steps 2260 | total loss : 22329.2265625\n",
      "epochs 4 | Steps 2280 | total loss : 22692.859375\n",
      "epochs 4 | Steps 2300 | total loss : 23014.701171875\n",
      "epochs 4 | Steps 2320 | total loss : 23390.787109375\n",
      "epochs 4 | Steps 2340 | total loss : 23673.927734375\n",
      "epochs 4 | Steps 2360 | total loss : 23891.21875\n",
      "\n"
     ]
    },
    {
     "data": {
      "application/vnd.jupyter.widget-view+json": {
       "model_id": "6e1c13ae77d044c68e7399633bc63789",
       "version_major": 2,
       "version_minor": 0
      },
      "text/plain": [
       "HBox(children=(FloatProgress(value=0.0, max=126.0), HTML(value='')))"
      ]
     },
     "metadata": {},
     "output_type": "display_data"
    },
    {
     "name": "stdout",
     "output_type": "stream",
     "text": [
      "epochs 4 | Steps 2380 | total loss : 24093.25390625\n",
      "epochs 4 | Steps 2400 | total loss : 24319.0390625\n",
      "epochs 4 | Steps 2420 | total loss : 24560.666015625\n",
      "epochs 4 | Steps 2440 | total loss : 24749.935546875\n",
      "epochs 4 | Steps 2460 | total loss : 24951.2109375\n",
      "epochs 4 | Steps 2480 | total loss : 25155.796875\n",
      "\n",
      "\n"
     ]
    },
    {
     "data": {
      "application/vnd.jupyter.widget-view+json": {
       "model_id": "b5d05c81deb64684bc59559c93999967",
       "version_major": 2,
       "version_minor": 0
      },
      "text/plain": [
       "HBox(children=(FloatProgress(value=0.0, description='MUSIC', max=4.0, style=ProgressStyle(description_width='i…"
      ]
     },
     "metadata": {},
     "output_type": "display_data"
    },
    {
     "data": {
      "application/vnd.jupyter.widget-view+json": {
       "model_id": "d23d7a97d3ff44d29f97b5fbc30f93de",
       "version_major": 2,
       "version_minor": 0
      },
      "text/plain": [
       "HBox(children=(FloatProgress(value=0.0, max=788.0), HTML(value='')))"
      ]
     },
     "metadata": {},
     "output_type": "display_data"
    },
    {
     "name": "stdout",
     "output_type": "stream",
     "text": [
      "epochs 5 | Steps 20 | total loss : 174.26144409179688\n",
      "epochs 5 | Steps 40 | total loss : 354.9742431640625\n",
      "epochs 5 | Steps 60 | total loss : 522.3739013671875\n",
      "epochs 5 | Steps 80 | total loss : 712.02978515625\n",
      "epochs 5 | Steps 100 | total loss : 886.0076293945312\n",
      "epochs 5 | Steps 120 | total loss : 1025.684814453125\n",
      "epochs 5 | Steps 140 | total loss : 1201.878662109375\n",
      "epochs 5 | Steps 160 | total loss : 1391.183349609375\n",
      "epochs 5 | Steps 180 | total loss : 1563.3575439453125\n",
      "epochs 5 | Steps 200 | total loss : 1720.510498046875\n",
      "epochs 5 | Steps 220 | total loss : 1874.2274169921875\n",
      "epochs 5 | Steps 240 | total loss : 2050.175048828125\n",
      "epochs 5 | Steps 260 | total loss : 2221.765380859375\n",
      "epochs 5 | Steps 280 | total loss : 2394.2275390625\n",
      "epochs 5 | Steps 300 | total loss : 2540.30859375\n",
      "epochs 5 | Steps 320 | total loss : 2727.39892578125\n",
      "epochs 5 | Steps 340 | total loss : 2901.53271484375\n",
      "epochs 5 | Steps 360 | total loss : 3081.60546875\n",
      "epochs 5 | Steps 380 | total loss : 3259.29296875\n",
      "epochs 5 | Steps 400 | total loss : 3430.34521484375\n",
      "epochs 5 | Steps 420 | total loss : 3595.365966796875\n",
      "epochs 5 | Steps 440 | total loss : 3737.670654296875\n",
      "epochs 5 | Steps 460 | total loss : 3886.16015625\n",
      "epochs 5 | Steps 480 | total loss : 4063.75390625\n",
      "epochs 5 | Steps 500 | total loss : 4213.12939453125\n",
      "epochs 5 | Steps 520 | total loss : 4357.556640625\n",
      "epochs 5 | Steps 540 | total loss : 4510.52099609375\n",
      "epochs 5 | Steps 560 | total loss : 4652.3271484375\n",
      "epochs 5 | Steps 580 | total loss : 4810.89794921875\n",
      "epochs 5 | Steps 600 | total loss : 4942.98486328125\n",
      "epochs 5 | Steps 620 | total loss : 5079.859375\n",
      "epochs 5 | Steps 640 | total loss : 5279.28369140625\n",
      "epochs 5 | Steps 660 | total loss : 5447.03955078125\n",
      "epochs 5 | Steps 680 | total loss : 5602.5029296875\n",
      "epochs 5 | Steps 700 | total loss : 5799.169921875\n",
      "epochs 5 | Steps 720 | total loss : 5963.68115234375\n",
      "epochs 5 | Steps 740 | total loss : 6135.1650390625\n",
      "epochs 5 | Steps 760 | total loss : 6274.7109375\n",
      "epochs 5 | Steps 780 | total loss : 6404.13330078125\n",
      "\n"
     ]
    },
    {
     "data": {
      "application/vnd.jupyter.widget-view+json": {
       "model_id": "f3feebf9c118440995afe58c323db985",
       "version_major": 2,
       "version_minor": 0
      },
      "text/plain": [
       "HBox(children=(FloatProgress(value=0.0, max=788.0), HTML(value='')))"
      ]
     },
     "metadata": {},
     "output_type": "display_data"
    },
    {
     "name": "stdout",
     "output_type": "stream",
     "text": [
      "epochs 5 | Steps 800 | total loss : 6561.8544921875\n",
      "epochs 5 | Steps 820 | total loss : 6708.94140625\n",
      "epochs 5 | Steps 840 | total loss : 6863.61181640625\n",
      "epochs 5 | Steps 860 | total loss : 7012.0986328125\n",
      "epochs 5 | Steps 880 | total loss : 7161.80078125\n",
      "epochs 5 | Steps 900 | total loss : 7318.8037109375\n",
      "epochs 5 | Steps 920 | total loss : 7485.0\n",
      "epochs 5 | Steps 940 | total loss : 7662.1025390625\n",
      "epochs 5 | Steps 960 | total loss : 7848.3369140625\n",
      "epochs 5 | Steps 980 | total loss : 8030.873046875\n",
      "epochs 5 | Steps 1000 | total loss : 8177.537109375\n",
      "epochs 5 | Steps 1020 | total loss : 8334.9951171875\n",
      "epochs 5 | Steps 1040 | total loss : 8523.1728515625\n",
      "epochs 5 | Steps 1060 | total loss : 8678.7216796875\n",
      "epochs 5 | Steps 1080 | total loss : 8819.7734375\n",
      "epochs 5 | Steps 1100 | total loss : 8978.666015625\n",
      "epochs 5 | Steps 1120 | total loss : 9158.0146484375\n",
      "epochs 5 | Steps 1140 | total loss : 9311.5986328125\n",
      "epochs 5 | Steps 1160 | total loss : 9464.3095703125\n",
      "epochs 5 | Steps 1180 | total loss : 9621.3857421875\n",
      "epochs 5 | Steps 1200 | total loss : 9829.6845703125\n",
      "epochs 5 | Steps 1220 | total loss : 9983.62109375\n",
      "epochs 5 | Steps 1240 | total loss : 10164.7578125\n",
      "epochs 5 | Steps 1260 | total loss : 10329.9755859375\n",
      "epochs 5 | Steps 1280 | total loss : 10490.8955078125\n",
      "epochs 5 | Steps 1300 | total loss : 10655.0283203125\n",
      "epochs 5 | Steps 1320 | total loss : 10830.0244140625\n",
      "epochs 5 | Steps 1340 | total loss : 10998.39453125\n",
      "epochs 5 | Steps 1360 | total loss : 11147.173828125\n",
      "epochs 5 | Steps 1380 | total loss : 11315.5126953125\n",
      "epochs 5 | Steps 1400 | total loss : 11473.9052734375\n",
      "epochs 5 | Steps 1420 | total loss : 11611.125\n",
      "epochs 5 | Steps 1440 | total loss : 11760.0205078125\n",
      "epochs 5 | Steps 1460 | total loss : 11906.59375\n",
      "epochs 5 | Steps 1480 | total loss : 12048.37109375\n",
      "epochs 5 | Steps 1500 | total loss : 12185.48046875\n",
      "epochs 5 | Steps 1520 | total loss : 12353.7001953125\n",
      "epochs 5 | Steps 1540 | total loss : 12524.7119140625\n",
      "epochs 5 | Steps 1560 | total loss : 12673.8466796875\n",
      "\n"
     ]
    },
    {
     "data": {
      "application/vnd.jupyter.widget-view+json": {
       "model_id": "600f49eee73345f18a7b01e3344872ed",
       "version_major": 2,
       "version_minor": 0
      },
      "text/plain": [
       "HBox(children=(FloatProgress(value=0.0, max=788.0), HTML(value='')))"
      ]
     },
     "metadata": {},
     "output_type": "display_data"
    },
    {
     "name": "stdout",
     "output_type": "stream",
     "text": [
      "epochs 5 | Steps 1580 | total loss : 12847.6787109375\n",
      "epochs 5 | Steps 1600 | total loss : 13023.181640625\n",
      "epochs 5 | Steps 1620 | total loss : 13218.9013671875\n",
      "epochs 5 | Steps 1640 | total loss : 13391.43359375\n",
      "epochs 5 | Steps 1660 | total loss : 13514.80859375\n",
      "epochs 5 | Steps 1680 | total loss : 13713.705078125\n",
      "epochs 5 | Steps 1700 | total loss : 13869.259765625\n",
      "epochs 5 | Steps 1720 | total loss : 14008.7490234375\n",
      "epochs 5 | Steps 1740 | total loss : 14174.2744140625\n",
      "epochs 5 | Steps 1760 | total loss : 14325.8515625\n",
      "epochs 5 | Steps 1780 | total loss : 14508.49609375\n",
      "epochs 5 | Steps 1800 | total loss : 14708.6435546875\n",
      "epochs 5 | Steps 1820 | total loss : 14928.8701171875\n",
      "epochs 5 | Steps 1840 | total loss : 15199.46484375\n",
      "epochs 5 | Steps 1860 | total loss : 15512.0732421875\n",
      "epochs 5 | Steps 1880 | total loss : 15806.28515625\n",
      "epochs 5 | Steps 1900 | total loss : 16491.572265625\n",
      "epochs 5 | Steps 1920 | total loss : 16869.89453125\n",
      "epochs 5 | Steps 1940 | total loss : 17271.87890625\n",
      "epochs 5 | Steps 1960 | total loss : 17634.736328125\n",
      "epochs 5 | Steps 1980 | total loss : 17909.421875\n",
      "epochs 5 | Steps 2000 | total loss : 18166.06640625\n",
      "epochs 5 | Steps 2020 | total loss : 18414.27734375\n",
      "epochs 5 | Steps 2040 | total loss : 18664.681640625\n",
      "epochs 5 | Steps 2060 | total loss : 18867.779296875\n",
      "epochs 5 | Steps 2080 | total loss : 19073.435546875\n",
      "epochs 5 | Steps 2100 | total loss : 19254.951171875\n",
      "epochs 5 | Steps 2120 | total loss : 19492.146484375\n",
      "epochs 5 | Steps 2140 | total loss : 19694.02734375\n",
      "epochs 5 | Steps 2160 | total loss : 19874.345703125\n",
      "epochs 5 | Steps 2180 | total loss : 20069.798828125\n",
      "epochs 5 | Steps 2200 | total loss : 20267.408203125\n",
      "epochs 5 | Steps 2220 | total loss : 20471.080078125\n",
      "epochs 5 | Steps 2240 | total loss : 20655.787109375\n",
      "epochs 5 | Steps 2260 | total loss : 20830.34375\n",
      "epochs 5 | Steps 2280 | total loss : 21009.701171875\n",
      "epochs 5 | Steps 2300 | total loss : 21178.1796875\n",
      "epochs 5 | Steps 2320 | total loss : 21325.1640625\n",
      "epochs 5 | Steps 2340 | total loss : 21497.509765625\n",
      "epochs 5 | Steps 2360 | total loss : 21668.572265625\n",
      "\n"
     ]
    },
    {
     "data": {
      "application/vnd.jupyter.widget-view+json": {
       "model_id": "d19a425bb9734df08bf341cfb1370d9f",
       "version_major": 2,
       "version_minor": 0
      },
      "text/plain": [
       "HBox(children=(FloatProgress(value=0.0, max=126.0), HTML(value='')))"
      ]
     },
     "metadata": {},
     "output_type": "display_data"
    },
    {
     "name": "stdout",
     "output_type": "stream",
     "text": [
      "epochs 5 | Steps 2380 | total loss : 21825.162109375\n",
      "epochs 5 | Steps 2400 | total loss : 21990.984375\n",
      "epochs 5 | Steps 2420 | total loss : 22175.28515625\n",
      "epochs 5 | Steps 2440 | total loss : 22339.505859375\n",
      "epochs 5 | Steps 2460 | total loss : 22532.056640625\n",
      "epochs 5 | Steps 2480 | total loss : 22683.68359375\n",
      "\n",
      "\n"
     ]
    },
    {
     "data": {
      "application/vnd.jupyter.widget-view+json": {
       "model_id": "fa1c8a8187664a1e91a685bda07bea51",
       "version_major": 2,
       "version_minor": 0
      },
      "text/plain": [
       "HBox(children=(FloatProgress(value=0.0, description='MUSIC', max=4.0, style=ProgressStyle(description_width='i…"
      ]
     },
     "metadata": {},
     "output_type": "display_data"
    },
    {
     "data": {
      "application/vnd.jupyter.widget-view+json": {
       "model_id": "e2366b9e9a934828b6d8efd6a80e3522",
       "version_major": 2,
       "version_minor": 0
      },
      "text/plain": [
       "HBox(children=(FloatProgress(value=0.0, max=788.0), HTML(value='')))"
      ]
     },
     "metadata": {},
     "output_type": "display_data"
    },
    {
     "name": "stdout",
     "output_type": "stream",
     "text": [
      "epochs 6 | Steps 20 | total loss : 172.88893127441406\n",
      "epochs 6 | Steps 40 | total loss : 361.9103698730469\n",
      "epochs 6 | Steps 60 | total loss : 558.3326416015625\n",
      "epochs 6 | Steps 80 | total loss : 752.0038452148438\n",
      "epochs 6 | Steps 100 | total loss : 1004.7510986328125\n",
      "epochs 6 | Steps 120 | total loss : 1263.78515625\n",
      "epochs 6 | Steps 140 | total loss : 1446.544677734375\n",
      "epochs 6 | Steps 160 | total loss : 1680.273193359375\n",
      "epochs 6 | Steps 180 | total loss : 1883.5972900390625\n",
      "epochs 6 | Steps 200 | total loss : 2132.00390625\n",
      "epochs 6 | Steps 220 | total loss : 2310.497802734375\n",
      "epochs 6 | Steps 240 | total loss : 2504.41357421875\n",
      "epochs 6 | Steps 260 | total loss : 2688.040283203125\n",
      "epochs 6 | Steps 280 | total loss : 2860.1650390625\n",
      "epochs 6 | Steps 300 | total loss : 3019.91357421875\n",
      "epochs 6 | Steps 320 | total loss : 3196.533203125\n",
      "epochs 6 | Steps 340 | total loss : 3364.878173828125\n",
      "epochs 6 | Steps 360 | total loss : 3527.287841796875\n",
      "epochs 6 | Steps 380 | total loss : 3692.95068359375\n",
      "epochs 6 | Steps 400 | total loss : 3854.67236328125\n",
      "epochs 6 | Steps 420 | total loss : 4011.64013671875\n",
      "epochs 6 | Steps 440 | total loss : 4181.75146484375\n",
      "epochs 6 | Steps 460 | total loss : 4334.17626953125\n",
      "epochs 6 | Steps 480 | total loss : 4472.5234375\n",
      "epochs 6 | Steps 500 | total loss : 4586.05908203125\n",
      "epochs 6 | Steps 520 | total loss : 4761.8505859375\n",
      "epochs 6 | Steps 540 | total loss : 4909.603515625\n",
      "epochs 6 | Steps 560 | total loss : 5064.04638671875\n",
      "epochs 6 | Steps 580 | total loss : 5226.11083984375\n",
      "epochs 6 | Steps 600 | total loss : 5395.1279296875\n",
      "epochs 6 | Steps 620 | total loss : 5534.3984375\n",
      "epochs 6 | Steps 640 | total loss : 5709.31103515625\n",
      "epochs 6 | Steps 660 | total loss : 5852.25634765625\n",
      "epochs 6 | Steps 680 | total loss : 5992.49365234375\n",
      "epochs 6 | Steps 700 | total loss : 6148.6416015625\n",
      "epochs 6 | Steps 720 | total loss : 6313.27001953125\n",
      "epochs 6 | Steps 740 | total loss : 6489.3564453125\n",
      "epochs 6 | Steps 760 | total loss : 6635.41162109375\n",
      "epochs 6 | Steps 780 | total loss : 6811.490234375\n",
      "\n"
     ]
    },
    {
     "data": {
      "application/vnd.jupyter.widget-view+json": {
       "model_id": "9e6831412e4e46938fb38b94676f9978",
       "version_major": 2,
       "version_minor": 0
      },
      "text/plain": [
       "HBox(children=(FloatProgress(value=0.0, max=788.0), HTML(value='')))"
      ]
     },
     "metadata": {},
     "output_type": "display_data"
    },
    {
     "name": "stdout",
     "output_type": "stream",
     "text": [
      "epochs 6 | Steps 800 | total loss : 6967.97119140625\n",
      "epochs 6 | Steps 820 | total loss : 7132.37890625\n",
      "epochs 6 | Steps 840 | total loss : 7301.6923828125\n",
      "epochs 6 | Steps 860 | total loss : 7463.13916015625\n",
      "epochs 6 | Steps 880 | total loss : 7603.11767578125\n",
      "epochs 6 | Steps 900 | total loss : 7771.62890625\n",
      "epochs 6 | Steps 920 | total loss : 7909.38427734375\n",
      "epochs 6 | Steps 940 | total loss : 8084.2626953125\n",
      "epochs 6 | Steps 960 | total loss : 8255.19921875\n",
      "epochs 6 | Steps 980 | total loss : 8430.66796875\n",
      "epochs 6 | Steps 1000 | total loss : 8570.478515625\n",
      "epochs 6 | Steps 1020 | total loss : 8712.1220703125\n",
      "epochs 6 | Steps 1040 | total loss : 8907.4296875\n",
      "epochs 6 | Steps 1060 | total loss : 9105.5361328125\n",
      "epochs 6 | Steps 1080 | total loss : 9280.4462890625\n",
      "epochs 6 | Steps 1100 | total loss : 9440.134765625\n",
      "epochs 6 | Steps 1120 | total loss : 9631.767578125\n",
      "epochs 6 | Steps 1140 | total loss : 9831.544921875\n",
      "epochs 6 | Steps 1160 | total loss : 9986.01953125\n",
      "epochs 6 | Steps 1180 | total loss : 10145.619140625\n",
      "epochs 6 | Steps 1200 | total loss : 10297.5869140625\n",
      "epochs 6 | Steps 1220 | total loss : 10470.6533203125\n",
      "epochs 6 | Steps 1240 | total loss : 10765.556640625\n",
      "epochs 6 | Steps 1260 | total loss : 11236.9267578125\n",
      "epochs 6 | Steps 1280 | total loss : 11714.1640625\n",
      "epochs 6 | Steps 1300 | total loss : 12132.6572265625\n",
      "epochs 6 | Steps 1320 | total loss : 12487.9833984375\n",
      "epochs 6 | Steps 1340 | total loss : 12737.333984375\n",
      "epochs 6 | Steps 1360 | total loss : 12980.7080078125\n",
      "epochs 6 | Steps 1380 | total loss : 13229.087890625\n",
      "epochs 6 | Steps 1400 | total loss : 13420.7783203125\n",
      "epochs 6 | Steps 1420 | total loss : 13615.9443359375\n",
      "epochs 6 | Steps 1440 | total loss : 13848.1162109375\n",
      "epochs 6 | Steps 1460 | total loss : 14076.86328125\n",
      "epochs 6 | Steps 1480 | total loss : 14257.69140625\n",
      "epochs 6 | Steps 1500 | total loss : 14457.630859375\n",
      "epochs 6 | Steps 1520 | total loss : 14629.2314453125\n",
      "epochs 6 | Steps 1540 | total loss : 14799.5517578125\n",
      "epochs 6 | Steps 1560 | total loss : 14971.9501953125\n",
      "\n"
     ]
    },
    {
     "data": {
      "application/vnd.jupyter.widget-view+json": {
       "model_id": "a124064831424e86852fe69c5da7a538",
       "version_major": 2,
       "version_minor": 0
      },
      "text/plain": [
       "HBox(children=(FloatProgress(value=0.0, max=788.0), HTML(value='')))"
      ]
     },
     "metadata": {},
     "output_type": "display_data"
    },
    {
     "name": "stdout",
     "output_type": "stream",
     "text": [
      "epochs 6 | Steps 1580 | total loss : 15123.201171875\n",
      "epochs 6 | Steps 1600 | total loss : 15307.66015625\n",
      "epochs 6 | Steps 1620 | total loss : 15457.57421875\n",
      "epochs 6 | Steps 1640 | total loss : 15613.1611328125\n",
      "epochs 6 | Steps 1660 | total loss : 15769.8310546875\n",
      "epochs 6 | Steps 1680 | total loss : 15917.0673828125\n",
      "epochs 6 | Steps 1700 | total loss : 16097.8515625\n",
      "epochs 6 | Steps 1720 | total loss : 16260.271484375\n",
      "epochs 6 | Steps 1740 | total loss : 16450.060546875\n",
      "epochs 6 | Steps 1760 | total loss : 16637.6015625\n",
      "epochs 6 | Steps 1780 | total loss : 16808.158203125\n",
      "epochs 6 | Steps 1800 | total loss : 16999.490234375\n",
      "epochs 6 | Steps 1820 | total loss : 17166.59765625\n",
      "epochs 6 | Steps 1840 | total loss : 17317.591796875\n",
      "epochs 6 | Steps 1860 | total loss : 17474.623046875\n",
      "epochs 6 | Steps 1880 | total loss : 17628.86328125\n",
      "epochs 6 | Steps 1900 | total loss : 17804.654296875\n",
      "epochs 6 | Steps 1920 | total loss : 17962.63671875\n",
      "epochs 6 | Steps 1940 | total loss : 18122.083984375\n",
      "epochs 6 | Steps 1960 | total loss : 18268.337890625\n",
      "epochs 6 | Steps 1980 | total loss : 18421.80078125\n",
      "epochs 6 | Steps 2000 | total loss : 18581.083984375\n",
      "epochs 6 | Steps 2020 | total loss : 18764.453125\n",
      "epochs 6 | Steps 2040 | total loss : 18915.681640625\n",
      "epochs 6 | Steps 2060 | total loss : 19057.2734375\n",
      "epochs 6 | Steps 2080 | total loss : 19196.646484375\n",
      "epochs 6 | Steps 2100 | total loss : 19340.986328125\n",
      "epochs 6 | Steps 2120 | total loss : 19486.609375\n",
      "epochs 6 | Steps 2140 | total loss : 19645.43359375\n",
      "epochs 6 | Steps 2160 | total loss : 19816.666015625\n",
      "epochs 6 | Steps 2180 | total loss : 19980.34765625\n",
      "epochs 6 | Steps 2200 | total loss : 20123.390625\n",
      "epochs 6 | Steps 2220 | total loss : 20282.6796875\n",
      "epochs 6 | Steps 2240 | total loss : 20423.611328125\n",
      "epochs 6 | Steps 2260 | total loss : 20568.42578125\n",
      "epochs 6 | Steps 2280 | total loss : 20712.56640625\n",
      "epochs 6 | Steps 2300 | total loss : 20871.775390625\n",
      "epochs 6 | Steps 2320 | total loss : 21025.09375\n",
      "epochs 6 | Steps 2340 | total loss : 21168.546875\n",
      "epochs 6 | Steps 2360 | total loss : 21322.81640625\n",
      "\n"
     ]
    },
    {
     "data": {
      "application/vnd.jupyter.widget-view+json": {
       "model_id": "34785caff91746c78f109c2a4b7c3390",
       "version_major": 2,
       "version_minor": 0
      },
      "text/plain": [
       "HBox(children=(FloatProgress(value=0.0, max=126.0), HTML(value='')))"
      ]
     },
     "metadata": {},
     "output_type": "display_data"
    },
    {
     "name": "stdout",
     "output_type": "stream",
     "text": [
      "epochs 6 | Steps 2380 | total loss : 21464.810546875\n",
      "epochs 6 | Steps 2400 | total loss : 21637.662109375\n",
      "epochs 6 | Steps 2420 | total loss : 21791.435546875\n",
      "epochs 6 | Steps 2440 | total loss : 21954.630859375\n",
      "epochs 6 | Steps 2460 | total loss : 22096.892578125\n",
      "epochs 6 | Steps 2480 | total loss : 22250.095703125\n",
      "\n",
      "\n"
     ]
    },
    {
     "data": {
      "application/vnd.jupyter.widget-view+json": {
       "model_id": "853c3110645a41c5a40e6ce41fab03f2",
       "version_major": 2,
       "version_minor": 0
      },
      "text/plain": [
       "HBox(children=(FloatProgress(value=0.0, description='MUSIC', max=4.0, style=ProgressStyle(description_width='i…"
      ]
     },
     "metadata": {},
     "output_type": "display_data"
    },
    {
     "data": {
      "application/vnd.jupyter.widget-view+json": {
       "model_id": "c226ddb4002748bfa7b81ca41ac6a74e",
       "version_major": 2,
       "version_minor": 0
      },
      "text/plain": [
       "HBox(children=(FloatProgress(value=0.0, max=788.0), HTML(value='')))"
      ]
     },
     "metadata": {},
     "output_type": "display_data"
    },
    {
     "name": "stdout",
     "output_type": "stream",
     "text": [
      "epochs 7 | Steps 20 | total loss : 151.2654571533203\n",
      "epochs 7 | Steps 40 | total loss : 302.4745178222656\n",
      "epochs 7 | Steps 60 | total loss : 504.17169189453125\n",
      "epochs 7 | Steps 80 | total loss : 695.5452880859375\n",
      "epochs 7 | Steps 100 | total loss : 862.1412353515625\n",
      "epochs 7 | Steps 120 | total loss : 1070.5191650390625\n",
      "epochs 7 | Steps 140 | total loss : 1304.2103271484375\n",
      "epochs 7 | Steps 160 | total loss : 1515.030517578125\n",
      "epochs 7 | Steps 180 | total loss : 1673.3468017578125\n",
      "epochs 7 | Steps 200 | total loss : 1898.281494140625\n",
      "epochs 7 | Steps 220 | total loss : 2148.700439453125\n",
      "epochs 7 | Steps 240 | total loss : 2507.25537109375\n",
      "epochs 7 | Steps 260 | total loss : 2835.38037109375\n",
      "epochs 7 | Steps 280 | total loss : 3092.32421875\n",
      "epochs 7 | Steps 300 | total loss : 3324.342041015625\n",
      "epochs 7 | Steps 320 | total loss : 3518.978271484375\n",
      "epochs 7 | Steps 340 | total loss : 3725.12939453125\n",
      "epochs 7 | Steps 360 | total loss : 3938.074462890625\n",
      "epochs 7 | Steps 380 | total loss : 4123.26025390625\n",
      "epochs 7 | Steps 400 | total loss : 4327.65625\n",
      "epochs 7 | Steps 420 | total loss : 4530.31201171875\n",
      "epochs 7 | Steps 440 | total loss : 4704.0966796875\n",
      "epochs 7 | Steps 460 | total loss : 4890.48486328125\n",
      "epochs 7 | Steps 480 | total loss : 5055.228515625\n",
      "epochs 7 | Steps 500 | total loss : 5231.607421875\n",
      "epochs 7 | Steps 520 | total loss : 5426.19580078125\n",
      "epochs 7 | Steps 540 | total loss : 5571.119140625\n",
      "epochs 7 | Steps 560 | total loss : 5721.30517578125\n",
      "epochs 7 | Steps 580 | total loss : 5880.78857421875\n",
      "epochs 7 | Steps 600 | total loss : 6046.31689453125\n",
      "epochs 7 | Steps 620 | total loss : 6215.67431640625\n",
      "epochs 7 | Steps 640 | total loss : 6385.62646484375\n",
      "epochs 7 | Steps 660 | total loss : 6577.71240234375\n",
      "epochs 7 | Steps 680 | total loss : 6741.41357421875\n",
      "epochs 7 | Steps 700 | total loss : 6986.70654296875\n",
      "epochs 7 | Steps 720 | total loss : 7167.71142578125\n",
      "epochs 7 | Steps 740 | total loss : 7342.69189453125\n",
      "epochs 7 | Steps 760 | total loss : 7517.17236328125\n",
      "epochs 7 | Steps 780 | total loss : 7694.537109375\n",
      "\n"
     ]
    },
    {
     "data": {
      "application/vnd.jupyter.widget-view+json": {
       "model_id": "b32e1e10b9364fd2a5b40aba5bcd587f",
       "version_major": 2,
       "version_minor": 0
      },
      "text/plain": [
       "HBox(children=(FloatProgress(value=0.0, max=788.0), HTML(value='')))"
      ]
     },
     "metadata": {},
     "output_type": "display_data"
    },
    {
     "name": "stdout",
     "output_type": "stream",
     "text": [
      "epochs 7 | Steps 800 | total loss : 7840.666015625\n",
      "epochs 7 | Steps 820 | total loss : 8017.88232421875\n",
      "epochs 7 | Steps 840 | total loss : 8187.13232421875\n",
      "epochs 7 | Steps 860 | total loss : 8374.6708984375\n",
      "epochs 7 | Steps 880 | total loss : 8541.265625\n",
      "epochs 7 | Steps 900 | total loss : 8706.2666015625\n",
      "epochs 7 | Steps 920 | total loss : 8853.5595703125\n",
      "epochs 7 | Steps 940 | total loss : 9002.7763671875\n",
      "epochs 7 | Steps 960 | total loss : 9152.3671875\n",
      "epochs 7 | Steps 980 | total loss : 9300.9208984375\n",
      "epochs 7 | Steps 1000 | total loss : 9456.34375\n",
      "epochs 7 | Steps 1020 | total loss : 9578.375\n",
      "epochs 7 | Steps 1040 | total loss : 9731.861328125\n",
      "epochs 7 | Steps 1060 | total loss : 9913.7958984375\n",
      "epochs 7 | Steps 1080 | total loss : 10075.1806640625\n",
      "epochs 7 | Steps 1100 | total loss : 10230.1513671875\n",
      "epochs 7 | Steps 1120 | total loss : 10377.19921875\n",
      "epochs 7 | Steps 1140 | total loss : 10512.0146484375\n",
      "epochs 7 | Steps 1160 | total loss : 10646.7197265625\n",
      "epochs 7 | Steps 1180 | total loss : 10799.099609375\n",
      "epochs 7 | Steps 1200 | total loss : 10943.6884765625\n",
      "epochs 7 | Steps 1220 | total loss : 11074.84375\n",
      "epochs 7 | Steps 1240 | total loss : 11280.3056640625\n",
      "epochs 7 | Steps 1260 | total loss : 11460.02734375\n",
      "epochs 7 | Steps 1280 | total loss : 11622.794921875\n",
      "epochs 7 | Steps 1300 | total loss : 11848.3359375\n",
      "epochs 7 | Steps 1320 | total loss : 12039.671875\n",
      "epochs 7 | Steps 1340 | total loss : 12232.9033203125\n",
      "epochs 7 | Steps 1360 | total loss : 12397.4091796875\n",
      "epochs 7 | Steps 1380 | total loss : 12558.94140625\n",
      "epochs 7 | Steps 1400 | total loss : 12741.3349609375\n",
      "epochs 7 | Steps 1420 | total loss : 12915.3955078125\n",
      "epochs 7 | Steps 1440 | total loss : 13072.6484375\n",
      "epochs 7 | Steps 1460 | total loss : 13243.732421875\n",
      "epochs 7 | Steps 1480 | total loss : 13436.8876953125\n",
      "epochs 7 | Steps 1500 | total loss : 13591.6240234375\n",
      "epochs 7 | Steps 1520 | total loss : 13785.87109375\n",
      "epochs 7 | Steps 1540 | total loss : 13978.244140625\n",
      "epochs 7 | Steps 1560 | total loss : 14180.501953125\n",
      "\n"
     ]
    },
    {
     "data": {
      "application/vnd.jupyter.widget-view+json": {
       "model_id": "10669abf74984cbb915bf6a7d4ec53fc",
       "version_major": 2,
       "version_minor": 0
      },
      "text/plain": [
       "HBox(children=(FloatProgress(value=0.0, max=788.0), HTML(value='')))"
      ]
     },
     "metadata": {},
     "output_type": "display_data"
    },
    {
     "name": "stdout",
     "output_type": "stream",
     "text": [
      "epochs 7 | Steps 1580 | total loss : 14314.84375\n",
      "epochs 7 | Steps 1600 | total loss : 14494.2490234375\n",
      "epochs 7 | Steps 1620 | total loss : 14664.5947265625\n",
      "epochs 7 | Steps 1640 | total loss : 14821.712890625\n",
      "epochs 7 | Steps 1660 | total loss : 14997.830078125\n",
      "epochs 7 | Steps 1680 | total loss : 15166.4052734375\n",
      "epochs 7 | Steps 1700 | total loss : 15323.791015625\n",
      "epochs 7 | Steps 1720 | total loss : 15516.119140625\n",
      "epochs 7 | Steps 1740 | total loss : 15678.7734375\n",
      "epochs 7 | Steps 1760 | total loss : 15863.8115234375\n",
      "epochs 7 | Steps 1780 | total loss : 16034.1328125\n",
      "epochs 7 | Steps 1800 | total loss : 16181.3193359375\n",
      "epochs 7 | Steps 1820 | total loss : 16327.0673828125\n",
      "epochs 7 | Steps 1840 | total loss : 16480.501953125\n",
      "epochs 7 | Steps 1860 | total loss : 16631.0078125\n",
      "epochs 7 | Steps 1880 | total loss : 16784.19921875\n",
      "epochs 7 | Steps 1900 | total loss : 16943.666015625\n",
      "epochs 7 | Steps 1920 | total loss : 17121.94921875\n",
      "epochs 7 | Steps 1940 | total loss : 17279.4375\n",
      "epochs 7 | Steps 1960 | total loss : 17463.197265625\n",
      "epochs 7 | Steps 1980 | total loss : 17667.232421875\n",
      "epochs 7 | Steps 2000 | total loss : 17879.849609375\n",
      "epochs 7 | Steps 2020 | total loss : 18108.900390625\n",
      "epochs 7 | Steps 2040 | total loss : 18315.396484375\n",
      "epochs 7 | Steps 2060 | total loss : 18497.919921875\n",
      "epochs 7 | Steps 2080 | total loss : 18725.873046875\n",
      "epochs 7 | Steps 2100 | total loss : 19070.05078125\n",
      "epochs 7 | Steps 2120 | total loss : 19281.306640625\n",
      "epochs 7 | Steps 2140 | total loss : 19488.65234375\n",
      "epochs 7 | Steps 2160 | total loss : 19669.177734375\n",
      "epochs 7 | Steps 2180 | total loss : 19905.083984375\n",
      "epochs 7 | Steps 2200 | total loss : 20188.923828125\n",
      "epochs 7 | Steps 2220 | total loss : 20465.306640625\n",
      "epochs 7 | Steps 2240 | total loss : 20757.271484375\n",
      "epochs 7 | Steps 2260 | total loss : 21071.099609375\n",
      "epochs 7 | Steps 2280 | total loss : 21328.119140625\n",
      "epochs 7 | Steps 2300 | total loss : 21514.708984375\n",
      "epochs 7 | Steps 2320 | total loss : 21778.60546875\n",
      "epochs 7 | Steps 2340 | total loss : 21966.646484375\n",
      "epochs 7 | Steps 2360 | total loss : 22170.94921875\n",
      "\n"
     ]
    },
    {
     "data": {
      "application/vnd.jupyter.widget-view+json": {
       "model_id": "f00e7ccbd3164ed68722bd42ae405f31",
       "version_major": 2,
       "version_minor": 0
      },
      "text/plain": [
       "HBox(children=(FloatProgress(value=0.0, max=126.0), HTML(value='')))"
      ]
     },
     "metadata": {},
     "output_type": "display_data"
    },
    {
     "name": "stdout",
     "output_type": "stream",
     "text": [
      "epochs 7 | Steps 2380 | total loss : 22390.318359375\n",
      "epochs 7 | Steps 2400 | total loss : 22612.017578125\n",
      "epochs 7 | Steps 2420 | total loss : 22805.8125\n",
      "epochs 7 | Steps 2440 | total loss : 22980.291015625\n",
      "epochs 7 | Steps 2460 | total loss : 23177.900390625\n",
      "epochs 7 | Steps 2480 | total loss : 23341.681640625\n",
      "\n",
      "\n"
     ]
    },
    {
     "data": {
      "application/vnd.jupyter.widget-view+json": {
       "model_id": "b9301199b53c49508dfb2b811d827cec",
       "version_major": 2,
       "version_minor": 0
      },
      "text/plain": [
       "HBox(children=(FloatProgress(value=0.0, description='MUSIC', max=4.0, style=ProgressStyle(description_width='i…"
      ]
     },
     "metadata": {},
     "output_type": "display_data"
    },
    {
     "data": {
      "application/vnd.jupyter.widget-view+json": {
       "model_id": "b5e00856d74d46079345b9012f65fc47",
       "version_major": 2,
       "version_minor": 0
      },
      "text/plain": [
       "HBox(children=(FloatProgress(value=0.0, max=788.0), HTML(value='')))"
      ]
     },
     "metadata": {},
     "output_type": "display_data"
    },
    {
     "name": "stdout",
     "output_type": "stream",
     "text": [
      "epochs 8 | Steps 20 | total loss : 169.2085418701172\n",
      "epochs 8 | Steps 40 | total loss : 332.87451171875\n",
      "epochs 8 | Steps 60 | total loss : 518.8392333984375\n",
      "epochs 8 | Steps 80 | total loss : 699.2432861328125\n",
      "epochs 8 | Steps 100 | total loss : 866.0827026367188\n",
      "epochs 8 | Steps 120 | total loss : 1009.2328491210938\n",
      "epochs 8 | Steps 140 | total loss : 1188.2490234375\n",
      "epochs 8 | Steps 160 | total loss : 1340.93994140625\n",
      "epochs 8 | Steps 180 | total loss : 1485.1510009765625\n",
      "epochs 8 | Steps 200 | total loss : 1655.3572998046875\n",
      "epochs 8 | Steps 220 | total loss : 1799.2252197265625\n",
      "epochs 8 | Steps 240 | total loss : 1952.50830078125\n",
      "epochs 8 | Steps 260 | total loss : 2129.179931640625\n",
      "epochs 8 | Steps 280 | total loss : 2300.72509765625\n",
      "epochs 8 | Steps 300 | total loss : 2476.623046875\n",
      "epochs 8 | Steps 320 | total loss : 2616.0849609375\n",
      "epochs 8 | Steps 340 | total loss : 2762.822509765625\n",
      "epochs 8 | Steps 360 | total loss : 2909.07275390625\n",
      "epochs 8 | Steps 380 | total loss : 3074.447998046875\n",
      "epochs 8 | Steps 400 | total loss : 3220.998779296875\n",
      "epochs 8 | Steps 420 | total loss : 3387.3037109375\n",
      "epochs 8 | Steps 440 | total loss : 3543.2587890625\n",
      "epochs 8 | Steps 460 | total loss : 3710.5048828125\n",
      "epochs 8 | Steps 480 | total loss : 3874.706787109375\n",
      "epochs 8 | Steps 500 | total loss : 4027.792236328125\n",
      "epochs 8 | Steps 520 | total loss : 4179.55419921875\n",
      "epochs 8 | Steps 540 | total loss : 4346.38671875\n",
      "epochs 8 | Steps 560 | total loss : 4484.2421875\n",
      "epochs 8 | Steps 580 | total loss : 4660.31298828125\n",
      "epochs 8 | Steps 600 | total loss : 4817.6494140625\n",
      "epochs 8 | Steps 620 | total loss : 4996.85986328125\n",
      "epochs 8 | Steps 640 | total loss : 5131.15673828125\n",
      "epochs 8 | Steps 660 | total loss : 5302.9765625\n",
      "epochs 8 | Steps 680 | total loss : 5438.791015625\n",
      "epochs 8 | Steps 700 | total loss : 5629.50244140625\n",
      "epochs 8 | Steps 720 | total loss : 5809.1201171875\n",
      "epochs 8 | Steps 740 | total loss : 5972.83349609375\n",
      "epochs 8 | Steps 760 | total loss : 6146.49609375\n",
      "epochs 8 | Steps 780 | total loss : 6314.83642578125\n",
      "\n"
     ]
    },
    {
     "data": {
      "application/vnd.jupyter.widget-view+json": {
       "model_id": "fd7429f242de4149b45f8850962f36e2",
       "version_major": 2,
       "version_minor": 0
      },
      "text/plain": [
       "HBox(children=(FloatProgress(value=0.0, max=788.0), HTML(value='')))"
      ]
     },
     "metadata": {},
     "output_type": "display_data"
    },
    {
     "name": "stdout",
     "output_type": "stream",
     "text": [
      "epochs 8 | Steps 800 | total loss : 6458.89306640625\n",
      "epochs 8 | Steps 820 | total loss : 6630.52099609375\n",
      "epochs 8 | Steps 840 | total loss : 6803.5966796875\n",
      "epochs 8 | Steps 880 | total loss : 7118.44384765625\n",
      "epochs 8 | Steps 900 | total loss : 7278.328125\n",
      "epochs 8 | Steps 920 | total loss : 7440.7568359375\n",
      "epochs 8 | Steps 940 | total loss : 7586.8056640625\n",
      "epochs 8 | Steps 960 | total loss : 7732.826171875\n",
      "epochs 8 | Steps 980 | total loss : 7913.41552734375\n",
      "epochs 8 | Steps 1000 | total loss : 8087.8505859375\n",
      "epochs 8 | Steps 1020 | total loss : 8251.3974609375\n",
      "epochs 8 | Steps 1040 | total loss : 8376.6806640625\n",
      "epochs 8 | Steps 1060 | total loss : 8544.8837890625\n",
      "epochs 8 | Steps 1080 | total loss : 8709.3779296875\n",
      "epochs 8 | Steps 1100 | total loss : 8856.6591796875\n",
      "epochs 8 | Steps 1120 | total loss : 9020.619140625\n",
      "epochs 8 | Steps 1140 | total loss : 9163.3935546875\n",
      "epochs 8 | Steps 1160 | total loss : 9306.037109375\n",
      "epochs 8 | Steps 1180 | total loss : 9464.259765625\n",
      "epochs 8 | Steps 1200 | total loss : 9614.654296875\n",
      "epochs 8 | Steps 1220 | total loss : 9730.4697265625\n",
      "epochs 8 | Steps 1240 | total loss : 9880.681640625\n",
      "epochs 8 | Steps 1260 | total loss : 10040.103515625\n",
      "epochs 8 | Steps 1280 | total loss : 10193.8974609375\n",
      "epochs 8 | Steps 1300 | total loss : 10363.294921875\n",
      "epochs 8 | Steps 1320 | total loss : 10627.443359375\n",
      "epochs 8 | Steps 1340 | total loss : 10825.9208984375\n",
      "epochs 8 | Steps 1360 | total loss : 11098.578125\n",
      "epochs 8 | Steps 1380 | total loss : 11373.26953125\n",
      "epochs 8 | Steps 1400 | total loss : 11580.220703125\n",
      "epochs 8 | Steps 1420 | total loss : 11762.4384765625\n",
      "epochs 8 | Steps 1440 | total loss : 11972.3466796875\n",
      "epochs 8 | Steps 1460 | total loss : 12171.9296875\n",
      "epochs 8 | Steps 1480 | total loss : 12396.0595703125\n",
      "epochs 8 | Steps 1500 | total loss : 12561.47265625\n",
      "epochs 8 | Steps 1520 | total loss : 12757.1416015625\n",
      "epochs 8 | Steps 1540 | total loss : 12920.005859375\n",
      "epochs 8 | Steps 1560 | total loss : 13094.0\n",
      "\n"
     ]
    },
    {
     "data": {
      "application/vnd.jupyter.widget-view+json": {
       "model_id": "a73ed34bd26c40a4a4447a13c57c6086",
       "version_major": 2,
       "version_minor": 0
      },
      "text/plain": [
       "HBox(children=(FloatProgress(value=0.0, max=788.0), HTML(value='')))"
      ]
     },
     "metadata": {},
     "output_type": "display_data"
    },
    {
     "name": "stdout",
     "output_type": "stream",
     "text": [
      "epochs 8 | Steps 1580 | total loss : 13235.3134765625\n",
      "epochs 8 | Steps 1600 | total loss : 13401.2548828125\n",
      "epochs 8 | Steps 1620 | total loss : 13541.826171875\n",
      "epochs 8 | Steps 1640 | total loss : 13728.6962890625\n",
      "epochs 8 | Steps 1680 | total loss : 14071.3134765625\n",
      "epochs 8 | Steps 1700 | total loss : 14237.7080078125\n",
      "epochs 8 | Steps 1720 | total loss : 14409.5087890625\n",
      "epochs 8 | Steps 1740 | total loss : 14570.625\n",
      "epochs 8 | Steps 1760 | total loss : 14711.2978515625\n",
      "epochs 8 | Steps 1780 | total loss : 14863.49609375\n",
      "epochs 8 | Steps 1800 | total loss : 15024.45703125\n",
      "epochs 8 | Steps 1820 | total loss : 15179.24609375\n",
      "epochs 8 | Steps 1840 | total loss : 15347.4873046875\n",
      "epochs 8 | Steps 1860 | total loss : 15566.5107421875\n",
      "epochs 8 | Steps 1880 | total loss : 15743.3603515625\n",
      "epochs 8 | Steps 1900 | total loss : 15927.2275390625\n",
      "epochs 8 | Steps 1920 | total loss : 16072.865234375\n",
      "epochs 8 | Steps 1940 | total loss : 16222.6513671875\n",
      "epochs 8 | Steps 1960 | total loss : 16377.3779296875\n",
      "epochs 8 | Steps 1980 | total loss : 16531.064453125\n",
      "epochs 8 | Steps 2000 | total loss : 16673.533203125\n",
      "epochs 8 | Steps 2020 | total loss : 16836.091796875\n",
      "epochs 8 | Steps 2040 | total loss : 17005.3046875\n",
      "epochs 8 | Steps 2060 | total loss : 17161.748046875\n",
      "epochs 8 | Steps 2080 | total loss : 17307.154296875\n",
      "epochs 8 | Steps 2100 | total loss : 17459.73046875\n",
      "epochs 8 | Steps 2120 | total loss : 17591.830078125\n",
      "epochs 8 | Steps 2140 | total loss : 17737.369140625\n",
      "epochs 8 | Steps 2160 | total loss : 17902.80078125\n",
      "epochs 8 | Steps 2180 | total loss : 18042.44921875\n",
      "epochs 8 | Steps 2200 | total loss : 18176.392578125\n",
      "epochs 8 | Steps 2220 | total loss : 18345.298828125\n",
      "epochs 8 | Steps 2240 | total loss : 18573.625\n",
      "epochs 8 | Steps 2260 | total loss : 18751.734375\n",
      "epochs 8 | Steps 2280 | total loss : 18970.810546875\n",
      "epochs 8 | Steps 2300 | total loss : 19222.98046875\n",
      "epochs 8 | Steps 2320 | total loss : 19398.962890625\n",
      "epochs 8 | Steps 2340 | total loss : 19575.75390625\n",
      "epochs 8 | Steps 2360 | total loss : 19756.994140625\n",
      "\n"
     ]
    },
    {
     "data": {
      "application/vnd.jupyter.widget-view+json": {
       "model_id": "f564e4458a2b4a9387839a5d8dc24d12",
       "version_major": 2,
       "version_minor": 0
      },
      "text/plain": [
       "HBox(children=(FloatProgress(value=0.0, max=126.0), HTML(value='')))"
      ]
     },
     "metadata": {},
     "output_type": "display_data"
    },
    {
     "name": "stdout",
     "output_type": "stream",
     "text": [
      "epochs 8 | Steps 2380 | total loss : 19910.82421875\n",
      "epochs 8 | Steps 2400 | total loss : 20082.05078125\n",
      "epochs 8 | Steps 2420 | total loss : 20252.294921875\n",
      "epochs 8 | Steps 2440 | total loss : 20417.7109375\n",
      "epochs 8 | Steps 2460 | total loss : 20573.12890625\n",
      "epochs 8 | Steps 2480 | total loss : 20763.814453125\n",
      "\n",
      "\n",
      "\n"
     ]
    }
   ],
   "source": [
    "seq_len = 50\n",
    "EPOCHS = 8\n",
    "BATCH_SONG = 100\n",
    "BATCH_NNET_SIZE = 600\n",
    "TOTAL_SONGS = len(all_song)\n",
    "\n",
    "train_class = TrainModel(EPOCHS, train, target,\n",
    "                  BATCH_NNET_SIZE, BATCH_SONG, optimizer, loss_fn,\n",
    "                   TOTAL_SONGS, model)\n",
    "\n",
    "train_class.fit()"
   ]
  },
  {
   "cell_type": "code",
   "execution_count": 14,
   "metadata": {},
   "outputs": [],
   "source": [
    "model.save('all_100sb_20ep.h5')"
   ]
  },
  {
   "cell_type": "code",
   "execution_count": null,
   "metadata": {},
   "outputs": [],
   "source": []
  }
 ],
 "metadata": {
  "environment": {
   "name": "tf2-2-3-gpu.2-3.m55",
   "type": "gcloud",
   "uri": "gcr.io/deeplearning-platform-release/tf2-2-3-gpu.2-3:m55"
  },
  "kernelspec": {
   "display_name": "Python 3",
   "language": "python",
   "name": "python3"
  },
  "language_info": {
   "codemirror_mode": {
    "name": "ipython",
    "version": 3
   },
   "file_extension": ".py",
   "mimetype": "text/x-python",
   "name": "python",
   "nbconvert_exporter": "python",
   "pygments_lexer": "ipython3",
   "version": "3.7.7"
  },
  "toc": {
   "base_numbering": 1,
   "nav_menu": {},
   "number_sections": true,
   "sideBar": true,
   "skip_h1_title": false,
   "title_cell": "Table of Contents",
   "title_sidebar": "Contents",
   "toc_cell": false,
   "toc_position": {},
   "toc_section_display": true,
   "toc_window_display": false
  }
 },
 "nbformat": 4,
 "nbformat_minor": 4
}
