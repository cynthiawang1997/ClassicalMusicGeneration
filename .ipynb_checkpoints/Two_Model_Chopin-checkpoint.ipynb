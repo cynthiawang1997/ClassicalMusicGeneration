{
 "cells": [
  {
   "cell_type": "code",
   "execution_count": 2,
   "metadata": {},
   "outputs": [
    {
     "name": "stderr",
     "output_type": "stream",
     "text": [
      "Using TensorFlow backend.\n"
     ]
    }
   ],
   "source": [
    "import os\n",
    "import io\n",
    "import time\n",
    "import pickle\n",
    "import numpy as np\n",
    "from numpy.random import choice, shuffle\n",
    "import tqdm.notebook\n",
    "import tensorflow as tf\n",
    "from tensorflow.keras import backend as K\n",
    "from tensorflow.keras.losses import sparse_categorical_crossentropy\n",
    "from tensorflow.keras.optimizers import Nadam\n",
    "from keras.layers import Dense, Activation, Dropout, Input, LeakyReLU\n",
    "from keras.layers import Input, Embedding, Bidirectional, LSTM, GRU\n",
    "from keras.models import Model, Sequential\n",
    "from keras_self_attention import SeqSelfAttention"
   ]
  },
  {
   "cell_type": "code",
   "execution_count": 3,
   "metadata": {},
   "outputs": [],
   "source": [
    "with open('pickle/all_song.pickle','rb') as read_file:\n",
    "    all_song= pickle.load(read_file)\n",
    "with open('pickle/notes_index_dict.pickle','rb') as read_file:\n",
    "    notes_index_dict= pickle.load(read_file)"
   ]
  },
  {
   "cell_type": "code",
   "execution_count": 4,
   "metadata": {},
   "outputs": [],
   "source": [
    "chopin_target = []\n",
    "chopin_train = []\n",
    "\n",
    "for song in all_song:\n",
    "    if song['composer'] == 'chopin':\n",
    "        chopin_train.append(song['train'])\n",
    "        chopin_target.append(song['target'])"
   ]
  },
  {
   "cell_type": "code",
   "execution_count": 5,
   "metadata": {},
   "outputs": [
    {
     "data": {
      "text/plain": [
       "48"
      ]
     },
     "execution_count": 5,
     "metadata": {},
     "output_type": "execute_result"
    }
   ],
   "source": [
    "len(chopin_target)"
   ]
  },
  {
   "cell_type": "code",
   "execution_count": 6,
   "metadata": {},
   "outputs": [],
   "source": [
    "target = [y for x in chopin_target for y in x]\n",
    "train = [y for x in chopin_train for y in x]"
   ]
  },
  {
   "cell_type": "code",
   "execution_count": 7,
   "metadata": {},
   "outputs": [
    {
     "data": {
      "text/plain": [
       "226800"
      ]
     },
     "execution_count": 7,
     "metadata": {},
     "output_type": "execute_result"
    }
   ],
   "source": [
    "len(target)"
   ]
  },
  {
   "cell_type": "code",
   "execution_count": 8,
   "metadata": {},
   "outputs": [],
   "source": [
    "rnn_unit = 128\n",
    "dropout = 0.3\n",
    "optimizer = Nadam()\n",
    "unique_notes = len(notes_index_dict)\n",
    "seq_len = 50\n",
    "dense_unit = 64\n",
    "output_emb = 100\n",
    "\n",
    "def create_model(seq_len, unique_notes, dropout, output_emb, rnn_unit, dense_unit):\n",
    "    inputs = Input(shape=(seq_len,))\n",
    "    embedding = Embedding(input_dim=unique_notes+1, output_dim=output_emb, input_length=seq_len)(inputs)\n",
    "    GRU_1 = Bidirectional(GRU(rnn_unit, return_sequences=True))(embedding)\n",
    "    selfattention_1, att_vector = SeqSelfAttention(\n",
    "        return_attention=True,\n",
    "          attention_activation='sigmoid', \n",
    "          attention_type=SeqSelfAttention.ATTENTION_TYPE_MUL,\n",
    "          attention_width=50, \n",
    "          kernel_regularizer=tf.keras.regularizers.l2(1e-4),\n",
    "          bias_regularizer=tf.keras.regularizers.l1(1e-4),\n",
    "          attention_regularizer_weight=1e-4)(GRU_1)\n",
    "    dropout_1 = Dropout(dropout)(selfattention_1)\n",
    "    GRU_2 = Bidirectional(GRU(rnn_unit, return_sequences=True))(dropout_1)\n",
    "    selfattention_2, att_vector2 = SeqSelfAttention(\n",
    "        return_attention=True,\n",
    "          attention_activation='sigmoid', \n",
    "          attention_type=SeqSelfAttention.ATTENTION_TYPE_MUL,\n",
    "          attention_width=50, \n",
    "          kernel_regularizer=tf.keras.regularizers.l2(1e-4),\n",
    "          bias_regularizer=tf.keras.regularizers.l1(1e-4),\n",
    "          attention_regularizer_weight=1e-4)(GRU_2)\n",
    "    dropout_2 = Dropout(dropout)(selfattention_2)\n",
    "    GRU_3 = Bidirectional(GRU(rnn_unit))(dropout_2)\n",
    "    dropout_3 = Dropout(dropout)(GRU_3)\n",
    "    dense_1 = Dense(dense_unit)(dropout_3)\n",
    "    leakyrelu = LeakyReLU()(dense_1)\n",
    "    outputs = Dense(unique_notes+1, activation = 'softmax')(leakyrelu)\n",
    "\n",
    "    model = Model(inputs = inputs, outputs = outputs, name = 'music_gen')\n",
    "    return model\n"
   ]
  },
  {
   "cell_type": "code",
   "execution_count": 9,
   "metadata": {},
   "outputs": [],
   "source": [
    "chopin = create_model(seq_len, unique_notes, dropout, output_emb, rnn_unit, dense_unit)"
   ]
  },
  {
   "cell_type": "code",
   "execution_count": 10,
   "metadata": {},
   "outputs": [],
   "source": [
    "chopin.compile(loss=\"sparse_categorical_crossentropy\", optimizer=optimizer)"
   ]
  },
  {
   "cell_type": "code",
   "execution_count": 11,
   "metadata": {},
   "outputs": [
    {
     "name": "stdout",
     "output_type": "stream",
     "text": [
      "Epoch 1/10\n",
      "454/454 [==============================] - 1762s 4s/step - loss: 3.7864\n",
      "Epoch 2/10\n",
      "454/454 [==============================] - 1775s 4s/step - loss: 2.2488\n",
      "Epoch 3/10\n",
      "454/454 [==============================] - 1767s 4s/step - loss: 1.4566\n",
      "Epoch 4/10\n",
      "454/454 [==============================] - 1378s 3s/step - loss: 0.5477\n",
      "Epoch 5/10\n",
      "454/454 [==============================] - 874s 2s/step - loss: 0.2799\n",
      "Epoch 6/10\n",
      "454/454 [==============================] - 877s 2s/step - loss: 0.1897\n",
      "Epoch 7/10\n",
      "454/454 [==============================] - 876s 2s/step - loss: 0.1773\n",
      "Epoch 8/10\n",
      "454/454 [==============================] - 879s 2s/step - loss: 0.1388\n",
      "Epoch 9/10\n",
      "454/454 [==============================] - 876s 2s/step - loss: 0.1171\n",
      "Epoch 10/10\n",
      "454/454 [==============================] - 877s 2s/step - loss: 0.1042\n"
     ]
    },
    {
     "data": {
      "text/plain": [
       "<tensorflow.python.keras.callbacks.History at 0x7f5e7326cc90>"
      ]
     },
     "execution_count": 11,
     "metadata": {},
     "output_type": "execute_result"
    }
   ],
   "source": [
    "chopin.fit(train, target, batch_size=500, epochs = 10)"
   ]
  },
  {
   "cell_type": "code",
   "execution_count": 14,
   "metadata": {},
   "outputs": [],
   "source": [
    "chopin.save('chopin_10ep.h5')"
   ]
  },
  {
   "cell_type": "markdown",
   "metadata": {},
   "source": [
    "## Train 10 more epochs"
   ]
  },
  {
   "cell_type": "code",
   "execution_count": 15,
   "metadata": {},
   "outputs": [
    {
     "name": "stdout",
     "output_type": "stream",
     "text": [
      "Epoch 1/10\n",
      "454/454 [==============================] - 851s 2s/step - loss: 0.1066\n",
      "Epoch 2/10\n",
      "454/454 [==============================] - 861s 2s/step - loss: 0.1051\n",
      "Epoch 3/10\n",
      "454/454 [==============================] - 865s 2s/step - loss: 0.0824\n",
      "Epoch 4/10\n",
      "454/454 [==============================] - 870s 2s/step - loss: 0.0931\n",
      "Epoch 5/10\n",
      "454/454 [==============================] - 871s 2s/step - loss: 0.0725\n",
      "Epoch 6/10\n",
      "454/454 [==============================] - 873s 2s/step - loss: 0.0797\n",
      "Epoch 7/10\n",
      "454/454 [==============================] - 869s 2s/step - loss: 0.0687\n",
      "Epoch 8/10\n",
      "454/454 [==============================] - 871s 2s/step - loss: 0.0650\n",
      "Epoch 9/10\n",
      "454/454 [==============================] - 868s 2s/step - loss: 0.0615\n",
      "Epoch 10/10\n",
      "454/454 [==============================] - 867s 2s/step - loss: 0.0613\n"
     ]
    },
    {
     "data": {
      "text/plain": [
       "<tensorflow.python.keras.callbacks.History at 0x7f5e795b1b90>"
      ]
     },
     "execution_count": 15,
     "metadata": {},
     "output_type": "execute_result"
    }
   ],
   "source": [
    "chopin.fit(train, target, batch_size=500, epochs = 10)"
   ]
  },
  {
   "cell_type": "code",
   "execution_count": 16,
   "metadata": {},
   "outputs": [],
   "source": [
    "chopin.save('chopin_20ep.h5')"
   ]
  },
  {
   "cell_type": "code",
   "execution_count": null,
   "metadata": {},
   "outputs": [],
   "source": []
  }
 ],
 "metadata": {
  "environment": {
   "name": "tf2-2-3-gpu.2-3.m55",
   "type": "gcloud",
   "uri": "gcr.io/deeplearning-platform-release/tf2-2-3-gpu.2-3:m55"
  },
  "kernelspec": {
   "display_name": "Python 3",
   "language": "python",
   "name": "python3"
  },
  "language_info": {
   "codemirror_mode": {
    "name": "ipython",
    "version": 3
   },
   "file_extension": ".py",
   "mimetype": "text/x-python",
   "name": "python",
   "nbconvert_exporter": "python",
   "pygments_lexer": "ipython3",
   "version": "3.7.7"
  },
  "toc": {
   "base_numbering": 1,
   "nav_menu": {},
   "number_sections": true,
   "sideBar": true,
   "skip_h1_title": false,
   "title_cell": "Table of Contents",
   "title_sidebar": "Contents",
   "toc_cell": false,
   "toc_position": {},
   "toc_section_display": true,
   "toc_window_display": false
  }
 },
 "nbformat": 4,
 "nbformat_minor": 4
}
